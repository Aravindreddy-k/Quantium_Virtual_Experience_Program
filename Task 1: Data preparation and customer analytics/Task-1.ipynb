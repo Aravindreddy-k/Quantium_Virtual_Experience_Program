{
 "cells": [
  {
   "cell_type": "markdown",
   "metadata": {
    "collapsed": false
   },
   "source": [
    "<h2>\n",
    "    Task 1-Data Preparation and Customer Analytics\n",
    "</h2>\n",
    "<p>\n",
    "    Conduct analysis on your client's transaction dataset and identify customer purchasing behaviours to generate insights and provide commercial recommendations.\n",
    "</p>"
   ]
  },
  {
   "cell_type": "markdown",
   "metadata": {
    "collapsed": false
   },
   "source": [
    "<h4>\n",
    "    Background information for the task\n",
    "</h4>\n",
    "<p>\n",
    "    We need to present a strategic recommendation to Julia that is supported by data which she can then use for the upcoming category review however to do so we need to analyse the data to understand the current purchasing trends and behaviours. The client is particularly interested in customer segments and their chip purchasing behaviour. Consider what metrics would help describe the customers’ purchasing behaviour.\n",
    "</p>"
   ]
  },
  {
   "cell_type": "markdown",
   "metadata": {
    "collapsed": false
   },
   "source": [
    "<b>Main goals of this task are :</b>"
   ]
  },
  {
   "cell_type": "markdown",
   "metadata": {
    "collapsed": false
   },
   "source": [
    "<p>\n",
    "1. Examine transaction data - check for missing data, anomalies, outliers and clean them<br>\n",
    "2. Examine customer data - similar to above transaction data<br>\n",
    "3. Data analysis and customer segments - create charts and graphs, note trends and insights<br>\n",
    "4. Deep dive into customer segments - determine which segments should be targetted<br>\n",
    "</p>"
   ]
  },
  {
   "cell_type": "code",
   "execution_count": 1,
   "metadata": {
    "collapsed": false
   },
   "outputs": [
   ],
   "source": [
    "# importing libraries required for the notebook\n",
    "import pandas as pd\n",
    "import numpy as np\n",
    "import seaborn as sns\n",
    "import matplotlib.pyplot as plt\n",
    "%matplotlib inline"
   ]
  },
  {
   "cell_type": "markdown",
   "metadata": {
    "collapsed": false
   },
   "source": [
    "\n",
    "    #### **TRANSACTION DATA**"
   ]
  },
  {
   "cell_type": "code",
   "execution_count": 2,
   "metadata": {
    "collapsed": false
   },
   "outputs": [
    {
     "data": {
      "text/html": [
       "<div>\n",
       "<style scoped>\n",
       "    .dataframe tbody tr th:only-of-type {\n",
       "        vertical-align: middle;\n",
       "    }\n",
       "\n",
       "    .dataframe tbody tr th {\n",
       "        vertical-align: top;\n",
       "    }\n",
       "\n",
       "    .dataframe thead th {\n",
       "        text-align: right;\n",
       "    }\n",
       "</style>\n",
       "<table border=\"1\" class=\"dataframe\">\n",
       "  <thead>\n",
       "    <tr style=\"text-align: right;\">\n",
       "      <th></th>\n",
       "      <th>DATE</th>\n",
       "      <th>STORE_NBR</th>\n",
       "      <th>LYLTY_CARD_NBR</th>\n",
       "      <th>TXN_ID</th>\n",
       "      <th>PROD_NBR</th>\n",
       "      <th>PROD_NAME</th>\n",
       "      <th>PROD_QTY</th>\n",
       "      <th>TOT_SALES</th>\n",
       "    </tr>\n",
       "  </thead>\n",
       "  <tbody>\n",
       "    <tr>\n",
       "      <th>0</th>\n",
       "      <td>2018-10-17</td>\n",
       "      <td>1</td>\n",
       "      <td>1000</td>\n",
       "      <td>1</td>\n",
       "      <td>5</td>\n",
       "      <td>Natural Chip        Compny SeaSalt175g</td>\n",
       "      <td>2</td>\n",
       "      <td>6.0</td>\n",
       "    </tr>\n",
       "    <tr>\n",
       "      <th>1</th>\n",
       "      <td>2019-05-14</td>\n",
       "      <td>1</td>\n",
       "      <td>1307</td>\n",
       "      <td>348</td>\n",
       "      <td>66</td>\n",
       "      <td>CCs Nacho Cheese    175g</td>\n",
       "      <td>3</td>\n",
       "      <td>6.3</td>\n",
       "    </tr>\n",
       "    <tr>\n",
       "      <th>2</th>\n",
       "      <td>2019-05-20</td>\n",
       "      <td>1</td>\n",
       "      <td>1343</td>\n",
       "      <td>383</td>\n",
       "      <td>61</td>\n",
       "      <td>Smiths Crinkle Cut  Chips Chicken 170g</td>\n",
       "      <td>2</td>\n",
       "      <td>2.9</td>\n",
       "    </tr>\n",
       "    <tr>\n",
       "      <th>3</th>\n",
       "      <td>2018-08-17</td>\n",
       "      <td>2</td>\n",
       "      <td>2373</td>\n",
       "      <td>974</td>\n",
       "      <td>69</td>\n",
       "      <td>Smiths Chip Thinly  S/Cream&amp;Onion 175g</td>\n",
       "      <td>5</td>\n",
       "      <td>15.0</td>\n",
       "    </tr>\n",
       "    <tr>\n",
       "      <th>4</th>\n",
       "      <td>2018-08-18</td>\n",
       "      <td>2</td>\n",
       "      <td>2426</td>\n",
       "      <td>1038</td>\n",
       "      <td>108</td>\n",
       "      <td>Kettle Tortilla ChpsHny&amp;Jlpno Chili 150g</td>\n",
       "      <td>3</td>\n",
       "      <td>13.8</td>\n",
       "    </tr>\n",
       "  </tbody>\n",
       "</table>\n",
       "</div>"
      ],
      "text/plain": [
       "        DATE  STORE_NBR  LYLTY_CARD_NBR  TXN_ID  PROD_NBR  \\\n",
       "0 2018-10-17          1            1000       1         5   \n",
       "1 2019-05-14          1            1307     348        66   \n",
       "2 2019-05-20          1            1343     383        61   \n",
       "3 2018-08-17          2            2373     974        69   \n",
       "4 2018-08-18          2            2426    1038       108   \n",
       "\n",
       "                                  PROD_NAME  PROD_QTY  TOT_SALES  \n",
       "0    Natural Chip        Compny SeaSalt175g         2        6.0  \n",
       "1                  CCs Nacho Cheese    175g         3        6.3  \n",
       "2    Smiths Crinkle Cut  Chips Chicken 170g         2        2.9  \n",
       "3    Smiths Chip Thinly  S/Cream&Onion 175g         5       15.0  \n",
       "4  Kettle Tortilla ChpsHny&Jlpno Chili 150g         3       13.8  "
      ]
     },
     "execution_count": 2,
     "metadata": {
     },
     "output_type": "execute_result"
    }
   ],
   "source": [
    "#importing transaction data and defining data & i have converted the excel date integer into date format in the excel.\n",
    "tran_data=pd.read_excel('QVI_transaction_data.xlsx')\n",
    "tran_data.head()\n"
   ]
  },
  {
   "cell_type": "code",
   "execution_count": 3,
   "metadata": {
    "collapsed": false
   },
   "outputs": [
    {
     "data": {
      "text/html": [
       "<div>\n",
       "<style scoped>\n",
       "    .dataframe tbody tr th:only-of-type {\n",
       "        vertical-align: middle;\n",
       "    }\n",
       "\n",
       "    .dataframe tbody tr th {\n",
       "        vertical-align: top;\n",
       "    }\n",
       "\n",
       "    .dataframe thead th {\n",
       "        text-align: right;\n",
       "    }\n",
       "</style>\n",
       "<table border=\"1\" class=\"dataframe\">\n",
       "  <thead>\n",
       "    <tr style=\"text-align: right;\">\n",
       "      <th></th>\n",
       "      <th>DATE</th>\n",
       "      <th>STORE_NBR</th>\n",
       "      <th>LYLTY_CARD_NBR</th>\n",
       "      <th>TXN_ID</th>\n",
       "      <th>PROD_NBR</th>\n",
       "      <th>PROD_NAME</th>\n",
       "      <th>PROD_QTY</th>\n",
       "      <th>TOT_SALES</th>\n",
       "    </tr>\n",
       "  </thead>\n",
       "  <tbody>\n",
       "    <tr>\n",
       "      <th>264831</th>\n",
       "      <td>2019-03-09</td>\n",
       "      <td>272</td>\n",
       "      <td>272319</td>\n",
       "      <td>270088</td>\n",
       "      <td>89</td>\n",
       "      <td>Kettle Sweet Chilli And Sour Cream 175g</td>\n",
       "      <td>2</td>\n",
       "      <td>10.8</td>\n",
       "    </tr>\n",
       "    <tr>\n",
       "      <th>264832</th>\n",
       "      <td>2018-08-13</td>\n",
       "      <td>272</td>\n",
       "      <td>272358</td>\n",
       "      <td>270154</td>\n",
       "      <td>74</td>\n",
       "      <td>Tostitos Splash Of  Lime 175g</td>\n",
       "      <td>1</td>\n",
       "      <td>4.4</td>\n",
       "    </tr>\n",
       "    <tr>\n",
       "      <th>264833</th>\n",
       "      <td>2018-11-06</td>\n",
       "      <td>272</td>\n",
       "      <td>272379</td>\n",
       "      <td>270187</td>\n",
       "      <td>51</td>\n",
       "      <td>Doritos Mexicana    170g</td>\n",
       "      <td>2</td>\n",
       "      <td>8.8</td>\n",
       "    </tr>\n",
       "    <tr>\n",
       "      <th>264834</th>\n",
       "      <td>2018-12-27</td>\n",
       "      <td>272</td>\n",
       "      <td>272379</td>\n",
       "      <td>270188</td>\n",
       "      <td>42</td>\n",
       "      <td>Doritos Corn Chip Mexican Jalapeno 150g</td>\n",
       "      <td>2</td>\n",
       "      <td>7.8</td>\n",
       "    </tr>\n",
       "    <tr>\n",
       "      <th>264835</th>\n",
       "      <td>2018-09-22</td>\n",
       "      <td>272</td>\n",
       "      <td>272380</td>\n",
       "      <td>270189</td>\n",
       "      <td>74</td>\n",
       "      <td>Tostitos Splash Of  Lime 175g</td>\n",
       "      <td>2</td>\n",
       "      <td>8.8</td>\n",
       "    </tr>\n",
       "  </tbody>\n",
       "</table>\n",
       "</div>"
      ],
      "text/plain": [
       "             DATE  STORE_NBR  LYLTY_CARD_NBR  TXN_ID  PROD_NBR  \\\n",
       "264831 2019-03-09        272          272319  270088        89   \n",
       "264832 2018-08-13        272          272358  270154        74   \n",
       "264833 2018-11-06        272          272379  270187        51   \n",
       "264834 2018-12-27        272          272379  270188        42   \n",
       "264835 2018-09-22        272          272380  270189        74   \n",
       "\n",
       "                                      PROD_NAME  PROD_QTY  TOT_SALES  \n",
       "264831  Kettle Sweet Chilli And Sour Cream 175g         2       10.8  \n",
       "264832            Tostitos Splash Of  Lime 175g         1        4.4  \n",
       "264833                 Doritos Mexicana    170g         2        8.8  \n",
       "264834  Doritos Corn Chip Mexican Jalapeno 150g         2        7.8  \n",
       "264835            Tostitos Splash Of  Lime 175g         2        8.8  "
      ]
     },
     "execution_count": 3,
     "metadata": {
     },
     "output_type": "execute_result"
    }
   ],
   "source": [
    "tran_data.tail()"
   ]
  },
  {
   "cell_type": "code",
   "execution_count": 4,
   "metadata": {
    "collapsed": false
   },
   "outputs": [
    {
     "data": {
      "text/plain": [
       "(264836, 8)"
      ]
     },
     "execution_count": 4,
     "metadata": {
     },
     "output_type": "execute_result"
    }
   ],
   "source": [
    "tran_data.shape"
   ]
  },
  {
   "cell_type": "code",
   "execution_count": 5,
   "metadata": {
    "collapsed": false
   },
   "outputs": [
    {
     "data": {
      "text/html": [
       "<div>\n",
       "<style scoped>\n",
       "    .dataframe tbody tr th:only-of-type {\n",
       "        vertical-align: middle;\n",
       "    }\n",
       "\n",
       "    .dataframe tbody tr th {\n",
       "        vertical-align: top;\n",
       "    }\n",
       "\n",
       "    .dataframe thead th {\n",
       "        text-align: right;\n",
       "    }\n",
       "</style>\n",
       "<table border=\"1\" class=\"dataframe\">\n",
       "  <thead>\n",
       "    <tr style=\"text-align: right;\">\n",
       "      <th></th>\n",
       "      <th>STORE_NBR</th>\n",
       "      <th>LYLTY_CARD_NBR</th>\n",
       "      <th>TXN_ID</th>\n",
       "      <th>PROD_NBR</th>\n",
       "      <th>PROD_QTY</th>\n",
       "      <th>TOT_SALES</th>\n",
       "    </tr>\n",
       "  </thead>\n",
       "  <tbody>\n",
       "    <tr>\n",
       "      <th>count</th>\n",
       "      <td>264836.00000</td>\n",
       "      <td>2.648360e+05</td>\n",
       "      <td>2.648360e+05</td>\n",
       "      <td>264836.000000</td>\n",
       "      <td>264836.000000</td>\n",
       "      <td>264836.000000</td>\n",
       "    </tr>\n",
       "    <tr>\n",
       "      <th>mean</th>\n",
       "      <td>135.08011</td>\n",
       "      <td>1.355495e+05</td>\n",
       "      <td>1.351583e+05</td>\n",
       "      <td>56.583157</td>\n",
       "      <td>1.907309</td>\n",
       "      <td>7.304200</td>\n",
       "    </tr>\n",
       "    <tr>\n",
       "      <th>std</th>\n",
       "      <td>76.78418</td>\n",
       "      <td>8.057998e+04</td>\n",
       "      <td>7.813303e+04</td>\n",
       "      <td>32.826638</td>\n",
       "      <td>0.643654</td>\n",
       "      <td>3.083226</td>\n",
       "    </tr>\n",
       "    <tr>\n",
       "      <th>min</th>\n",
       "      <td>1.00000</td>\n",
       "      <td>1.000000e+03</td>\n",
       "      <td>1.000000e+00</td>\n",
       "      <td>1.000000</td>\n",
       "      <td>1.000000</td>\n",
       "      <td>1.500000</td>\n",
       "    </tr>\n",
       "    <tr>\n",
       "      <th>25%</th>\n",
       "      <td>70.00000</td>\n",
       "      <td>7.002100e+04</td>\n",
       "      <td>6.760150e+04</td>\n",
       "      <td>28.000000</td>\n",
       "      <td>2.000000</td>\n",
       "      <td>5.400000</td>\n",
       "    </tr>\n",
       "    <tr>\n",
       "      <th>50%</th>\n",
       "      <td>130.00000</td>\n",
       "      <td>1.303575e+05</td>\n",
       "      <td>1.351375e+05</td>\n",
       "      <td>56.000000</td>\n",
       "      <td>2.000000</td>\n",
       "      <td>7.400000</td>\n",
       "    </tr>\n",
       "    <tr>\n",
       "      <th>75%</th>\n",
       "      <td>203.00000</td>\n",
       "      <td>2.030942e+05</td>\n",
       "      <td>2.027012e+05</td>\n",
       "      <td>85.000000</td>\n",
       "      <td>2.000000</td>\n",
       "      <td>9.200000</td>\n",
       "    </tr>\n",
       "    <tr>\n",
       "      <th>max</th>\n",
       "      <td>272.00000</td>\n",
       "      <td>2.373711e+06</td>\n",
       "      <td>2.415841e+06</td>\n",
       "      <td>114.000000</td>\n",
       "      <td>200.000000</td>\n",
       "      <td>650.000000</td>\n",
       "    </tr>\n",
       "  </tbody>\n",
       "</table>\n",
       "</div>"
      ],
      "text/plain": [
       "          STORE_NBR  LYLTY_CARD_NBR        TXN_ID       PROD_NBR  \\\n",
       "count  264836.00000    2.648360e+05  2.648360e+05  264836.000000   \n",
       "mean      135.08011    1.355495e+05  1.351583e+05      56.583157   \n",
       "std        76.78418    8.057998e+04  7.813303e+04      32.826638   \n",
       "min         1.00000    1.000000e+03  1.000000e+00       1.000000   \n",
       "25%        70.00000    7.002100e+04  6.760150e+04      28.000000   \n",
       "50%       130.00000    1.303575e+05  1.351375e+05      56.000000   \n",
       "75%       203.00000    2.030942e+05  2.027012e+05      85.000000   \n",
       "max       272.00000    2.373711e+06  2.415841e+06     114.000000   \n",
       "\n",
       "            PROD_QTY      TOT_SALES  \n",
       "count  264836.000000  264836.000000  \n",
       "mean        1.907309       7.304200  \n",
       "std         0.643654       3.083226  \n",
       "min         1.000000       1.500000  \n",
       "25%         2.000000       5.400000  \n",
       "50%         2.000000       7.400000  \n",
       "75%         2.000000       9.200000  \n",
       "max       200.000000     650.000000  "
      ]
     },
     "execution_count": 5,
     "metadata": {
     },
     "output_type": "execute_result"
    }
   ],
   "source": [
    "tran_data.describe()"
   ]
  },
  {
   "cell_type": "code",
   "execution_count": 6,
   "metadata": {
    "collapsed": false
   },
   "outputs": [
    {
     "name": "stdout",
     "output_type": "stream",
     "text": [
      "<class 'pandas.core.frame.DataFrame'>\n",
      "RangeIndex: 264836 entries, 0 to 264835\n",
      "Data columns (total 8 columns):\n",
      " #   Column          Non-Null Count   Dtype         \n",
      "---  ------          --------------   -----         \n",
      " 0   DATE            264836 non-null  datetime64[ns]\n",
      " 1   STORE_NBR       264836 non-null  int64         \n",
      " 2   LYLTY_CARD_NBR  264836 non-null  int64         \n",
      " 3   TXN_ID          264836 non-null  int64         \n",
      " 4   PROD_NBR        264836 non-null  int64         \n",
      " 5   PROD_NAME       264836 non-null  object        \n",
      " 6   PROD_QTY        264836 non-null  int64         \n",
      " 7   TOT_SALES       264836 non-null  float64       \n",
      "dtypes: datetime64[ns](1), float64(1), int64(5), object(1)\n",
      "memory usage: 16.2+ MB\n"
     ]
    }
   ],
   "source": [
    "tran_data.info()"
   ]
  },
  {
   "cell_type": "code",
   "execution_count": 7,
   "metadata": {
    "collapsed": false
   },
   "outputs": [
    {
     "data": {
      "text/plain": [
       "DATE              0\n",
       "STORE_NBR         0\n",
       "LYLTY_CARD_NBR    0\n",
       "TXN_ID            0\n",
       "PROD_NBR          0\n",
       "PROD_NAME         0\n",
       "PROD_QTY          0\n",
       "TOT_SALES         0\n",
       "dtype: int64"
      ]
     },
     "execution_count": 7,
     "metadata": {
     },
     "output_type": "execute_result"
    }
   ],
   "source": [
    "tran_data.isnull().sum()"
   ]
  },
  {
   "cell_type": "code",
   "execution_count": 8,
   "metadata": {
    "collapsed": false
   },
   "outputs": [
    {
     "data": {
      "text/plain": [
       "DATE                 364\n",
       "STORE_NBR            272\n",
       "LYLTY_CARD_NBR     72637\n",
       "TXN_ID            263127\n",
       "PROD_NBR             114\n",
       "PROD_NAME            114\n",
       "PROD_QTY               6\n",
       "TOT_SALES            112\n",
       "dtype: int64"
      ]
     },
     "execution_count": 8,
     "metadata": {
     },
     "output_type": "execute_result"
    }
   ],
   "source": [
    "tran_data.nunique()"
   ]
  },
  {
   "cell_type": "code",
   "execution_count": 9,
   "metadata": {
    "collapsed": false
   },
   "outputs": [
    {
     "data": {
      "text/plain": [
       "264836"
      ]
     },
     "execution_count": 9,
     "metadata": {
     },
     "output_type": "execute_result"
    }
   ],
   "source": [
    "len(tran_data)"
   ]
  },
  {
   "cell_type": "code",
   "execution_count": 10,
   "metadata": {
    "collapsed": false
   },
   "outputs": [
    {
     "data": {
      "text/html": [
       "<div>\n",
       "<style scoped>\n",
       "    .dataframe tbody tr th:only-of-type {\n",
       "        vertical-align: middle;\n",
       "    }\n",
       "\n",
       "    .dataframe tbody tr th {\n",
       "        vertical-align: top;\n",
       "    }\n",
       "\n",
       "    .dataframe thead th {\n",
       "        text-align: right;\n",
       "    }\n",
       "</style>\n",
       "<table border=\"1\" class=\"dataframe\">\n",
       "  <thead>\n",
       "    <tr style=\"text-align: right;\">\n",
       "      <th></th>\n",
       "      <th>DATE</th>\n",
       "      <th>STORE_NBR</th>\n",
       "      <th>LYLTY_CARD_NBR</th>\n",
       "      <th>TXN_ID</th>\n",
       "      <th>PROD_NBR</th>\n",
       "      <th>PROD_NAME</th>\n",
       "      <th>PROD_QTY</th>\n",
       "      <th>TOT_SALES</th>\n",
       "    </tr>\n",
       "  </thead>\n",
       "  <tbody>\n",
       "    <tr>\n",
       "      <th>42</th>\n",
       "      <td>2019-05-20</td>\n",
       "      <td>55</td>\n",
       "      <td>55073</td>\n",
       "      <td>48887</td>\n",
       "      <td>113</td>\n",
       "      <td>Twisties Chicken270g</td>\n",
       "      <td>1</td>\n",
       "      <td>4.6</td>\n",
       "    </tr>\n",
       "    <tr>\n",
       "      <th>377</th>\n",
       "      <td>2019-01-10</td>\n",
       "      <td>7</td>\n",
       "      <td>7364</td>\n",
       "      <td>7739</td>\n",
       "      <td>20</td>\n",
       "      <td>Doritos Cheese      Supreme 330g</td>\n",
       "      <td>2</td>\n",
       "      <td>11.4</td>\n",
       "    </tr>\n",
       "    <tr>\n",
       "      <th>419</th>\n",
       "      <td>2018-10-18</td>\n",
       "      <td>12</td>\n",
       "      <td>12301</td>\n",
       "      <td>10982</td>\n",
       "      <td>93</td>\n",
       "      <td>Doritos Corn Chip Southern Chicken 150g</td>\n",
       "      <td>2</td>\n",
       "      <td>7.8</td>\n",
       "    </tr>\n",
       "    <tr>\n",
       "      <th>476</th>\n",
       "      <td>2018-09-08</td>\n",
       "      <td>16</td>\n",
       "      <td>16427</td>\n",
       "      <td>14546</td>\n",
       "      <td>81</td>\n",
       "      <td>Pringles Original   Crisps 134g</td>\n",
       "      <td>1</td>\n",
       "      <td>3.7</td>\n",
       "    </tr>\n",
       "    <tr>\n",
       "      <th>511</th>\n",
       "      <td>2018-08-03</td>\n",
       "      <td>19</td>\n",
       "      <td>19272</td>\n",
       "      <td>16683</td>\n",
       "      <td>31</td>\n",
       "      <td>Infzns Crn Crnchers Tangy Gcamole 110g</td>\n",
       "      <td>2</td>\n",
       "      <td>7.6</td>\n",
       "    </tr>\n",
       "  </tbody>\n",
       "</table>\n",
       "</div>"
      ],
      "text/plain": [
       "          DATE  STORE_NBR  LYLTY_CARD_NBR  TXN_ID  PROD_NBR  \\\n",
       "42  2019-05-20         55           55073   48887       113   \n",
       "377 2019-01-10          7            7364    7739        20   \n",
       "419 2018-10-18         12           12301   10982        93   \n",
       "476 2018-09-08         16           16427   14546        81   \n",
       "511 2018-08-03         19           19272   16683        31   \n",
       "\n",
       "                                   PROD_NAME  PROD_QTY  TOT_SALES  \n",
       "42                      Twisties Chicken270g         1        4.6  \n",
       "377         Doritos Cheese      Supreme 330g         2       11.4  \n",
       "419  Doritos Corn Chip Southern Chicken 150g         2        7.8  \n",
       "476          Pringles Original   Crisps 134g         1        3.7  \n",
       "511   Infzns Crn Crnchers Tangy Gcamole 110g         2        7.6  "
      ]
     },
     "execution_count": 10,
     "metadata": {
     },
     "output_type": "execute_result"
    }
   ],
   "source": [
    "tran_data[tran_data.duplicated(['TXN_ID'])].head()"
   ]
  },
  {
   "cell_type": "code",
   "execution_count": 11,
   "metadata": {
    "collapsed": false
   },
   "outputs": [
    {
     "data": {
      "text/html": [
       "<div>\n",
       "<style scoped>\n",
       "    .dataframe tbody tr th:only-of-type {\n",
       "        vertical-align: middle;\n",
       "    }\n",
       "\n",
       "    .dataframe tbody tr th {\n",
       "        vertical-align: top;\n",
       "    }\n",
       "\n",
       "    .dataframe thead th {\n",
       "        text-align: right;\n",
       "    }\n",
       "</style>\n",
       "<table border=\"1\" class=\"dataframe\">\n",
       "  <thead>\n",
       "    <tr style=\"text-align: right;\">\n",
       "      <th></th>\n",
       "      <th>DATE</th>\n",
       "      <th>STORE_NBR</th>\n",
       "      <th>LYLTY_CARD_NBR</th>\n",
       "      <th>TXN_ID</th>\n",
       "      <th>PROD_NBR</th>\n",
       "      <th>PROD_NAME</th>\n",
       "      <th>PROD_QTY</th>\n",
       "      <th>TOT_SALES</th>\n",
       "    </tr>\n",
       "  </thead>\n",
       "  <tbody>\n",
       "    <tr>\n",
       "      <th>41</th>\n",
       "      <td>2019-05-20</td>\n",
       "      <td>55</td>\n",
       "      <td>55073</td>\n",
       "      <td>48887</td>\n",
       "      <td>4</td>\n",
       "      <td>Dorito Corn Chp     Supreme 380g</td>\n",
       "      <td>1</td>\n",
       "      <td>3.25</td>\n",
       "    </tr>\n",
       "    <tr>\n",
       "      <th>42</th>\n",
       "      <td>2019-05-20</td>\n",
       "      <td>55</td>\n",
       "      <td>55073</td>\n",
       "      <td>48887</td>\n",
       "      <td>113</td>\n",
       "      <td>Twisties Chicken270g</td>\n",
       "      <td>1</td>\n",
       "      <td>4.60</td>\n",
       "    </tr>\n",
       "  </tbody>\n",
       "</table>\n",
       "</div>"
      ],
      "text/plain": [
       "         DATE  STORE_NBR  LYLTY_CARD_NBR  TXN_ID  PROD_NBR  \\\n",
       "41 2019-05-20         55           55073   48887         4   \n",
       "42 2019-05-20         55           55073   48887       113   \n",
       "\n",
       "                           PROD_NAME  PROD_QTY  TOT_SALES  \n",
       "41  Dorito Corn Chp     Supreme 380g         1       3.25  \n",
       "42              Twisties Chicken270g         1       4.60  "
      ]
     },
     "execution_count": 11,
     "metadata": {
     },
     "output_type": "execute_result"
    }
   ],
   "source": [
    "tran_data.loc[tran_data['TXN_ID']==48887, : ]"
   ]
  },
  {
   "cell_type": "markdown",
   "metadata": {
    "collapsed": false
   },
   "source": [
    "##### **From the above output TXN_ID is not unique to each row. This is because customer can buy different brands of chips in single transaction.**"
   ]
  },
  {
   "cell_type": "markdown",
   "metadata": {
    "collapsed": false
   },
   "source": [
    "#### **PURCHASING DATA**"
   ]
  },
  {
   "cell_type": "code",
   "execution_count": 12,
   "metadata": {
    "collapsed": false
   },
   "outputs": [
    {
     "data": {
      "text/html": [
       "<div>\n",
       "<style scoped>\n",
       "    .dataframe tbody tr th:only-of-type {\n",
       "        vertical-align: middle;\n",
       "    }\n",
       "\n",
       "    .dataframe tbody tr th {\n",
       "        vertical-align: top;\n",
       "    }\n",
       "\n",
       "    .dataframe thead th {\n",
       "        text-align: right;\n",
       "    }\n",
       "</style>\n",
       "<table border=\"1\" class=\"dataframe\">\n",
       "  <thead>\n",
       "    <tr style=\"text-align: right;\">\n",
       "      <th></th>\n",
       "      <th>LYLTY_CARD_NBR</th>\n",
       "      <th>LIFESTAGE</th>\n",
       "      <th>PREMIUM_CUSTOMER</th>\n",
       "    </tr>\n",
       "  </thead>\n",
       "  <tbody>\n",
       "    <tr>\n",
       "      <th>0</th>\n",
       "      <td>1000</td>\n",
       "      <td>YOUNG SINGLES/COUPLES</td>\n",
       "      <td>Premium</td>\n",
       "    </tr>\n",
       "    <tr>\n",
       "      <th>1</th>\n",
       "      <td>1002</td>\n",
       "      <td>YOUNG SINGLES/COUPLES</td>\n",
       "      <td>Mainstream</td>\n",
       "    </tr>\n",
       "    <tr>\n",
       "      <th>2</th>\n",
       "      <td>1003</td>\n",
       "      <td>YOUNG FAMILIES</td>\n",
       "      <td>Budget</td>\n",
       "    </tr>\n",
       "    <tr>\n",
       "      <th>3</th>\n",
       "      <td>1004</td>\n",
       "      <td>OLDER SINGLES/COUPLES</td>\n",
       "      <td>Mainstream</td>\n",
       "    </tr>\n",
       "    <tr>\n",
       "      <th>4</th>\n",
       "      <td>1005</td>\n",
       "      <td>MIDAGE SINGLES/COUPLES</td>\n",
       "      <td>Mainstream</td>\n",
       "    </tr>\n",
       "  </tbody>\n",
       "</table>\n",
       "</div>"
      ],
      "text/plain": [
       "   LYLTY_CARD_NBR               LIFESTAGE PREMIUM_CUSTOMER\n",
       "0            1000   YOUNG SINGLES/COUPLES          Premium\n",
       "1            1002   YOUNG SINGLES/COUPLES       Mainstream\n",
       "2            1003          YOUNG FAMILIES           Budget\n",
       "3            1004   OLDER SINGLES/COUPLES       Mainstream\n",
       "4            1005  MIDAGE SINGLES/COUPLES       Mainstream"
      ]
     },
     "execution_count": 12,
     "metadata": {
     },
     "output_type": "execute_result"
    }
   ],
   "source": [
    "#importing purchasing behaviour and defining data\n",
    "prch_bvr=pd.read_csv('QVI_purchase_behaviour.csv')\n",
    "prch_bvr.head()"
   ]
  },
  {
   "cell_type": "code",
   "execution_count": 13,
   "metadata": {
    "collapsed": false
   },
   "outputs": [
    {
     "data": {
      "text/html": [
       "<div>\n",
       "<style scoped>\n",
       "    .dataframe tbody tr th:only-of-type {\n",
       "        vertical-align: middle;\n",
       "    }\n",
       "\n",
       "    .dataframe tbody tr th {\n",
       "        vertical-align: top;\n",
       "    }\n",
       "\n",
       "    .dataframe thead th {\n",
       "        text-align: right;\n",
       "    }\n",
       "</style>\n",
       "<table border=\"1\" class=\"dataframe\">\n",
       "  <thead>\n",
       "    <tr style=\"text-align: right;\">\n",
       "      <th></th>\n",
       "      <th>LYLTY_CARD_NBR</th>\n",
       "      <th>LIFESTAGE</th>\n",
       "      <th>PREMIUM_CUSTOMER</th>\n",
       "    </tr>\n",
       "  </thead>\n",
       "  <tbody>\n",
       "    <tr>\n",
       "      <th>72632</th>\n",
       "      <td>2370651</td>\n",
       "      <td>MIDAGE SINGLES/COUPLES</td>\n",
       "      <td>Mainstream</td>\n",
       "    </tr>\n",
       "    <tr>\n",
       "      <th>72633</th>\n",
       "      <td>2370701</td>\n",
       "      <td>YOUNG FAMILIES</td>\n",
       "      <td>Mainstream</td>\n",
       "    </tr>\n",
       "    <tr>\n",
       "      <th>72634</th>\n",
       "      <td>2370751</td>\n",
       "      <td>YOUNG FAMILIES</td>\n",
       "      <td>Premium</td>\n",
       "    </tr>\n",
       "    <tr>\n",
       "      <th>72635</th>\n",
       "      <td>2370961</td>\n",
       "      <td>OLDER FAMILIES</td>\n",
       "      <td>Budget</td>\n",
       "    </tr>\n",
       "    <tr>\n",
       "      <th>72636</th>\n",
       "      <td>2373711</td>\n",
       "      <td>YOUNG SINGLES/COUPLES</td>\n",
       "      <td>Mainstream</td>\n",
       "    </tr>\n",
       "  </tbody>\n",
       "</table>\n",
       "</div>"
      ],
      "text/plain": [
       "       LYLTY_CARD_NBR               LIFESTAGE PREMIUM_CUSTOMER\n",
       "72632         2370651  MIDAGE SINGLES/COUPLES       Mainstream\n",
       "72633         2370701          YOUNG FAMILIES       Mainstream\n",
       "72634         2370751          YOUNG FAMILIES          Premium\n",
       "72635         2370961          OLDER FAMILIES           Budget\n",
       "72636         2373711   YOUNG SINGLES/COUPLES       Mainstream"
      ]
     },
     "execution_count": 13,
     "metadata": {
     },
     "output_type": "execute_result"
    }
   ],
   "source": [
    "prch_bvr.tail()"
   ]
  },
  {
   "cell_type": "code",
   "execution_count": 14,
   "metadata": {
    "collapsed": false
   },
   "outputs": [
    {
     "data": {
      "text/plain": [
       "(72637, 3)"
      ]
     },
     "execution_count": 14,
     "metadata": {
     },
     "output_type": "execute_result"
    }
   ],
   "source": [
    "prch_bvr.shape"
   ]
  },
  {
   "cell_type": "code",
   "execution_count": 15,
   "metadata": {
    "collapsed": false
   },
   "outputs": [
    {
     "data": {
      "text/html": [
       "<div>\n",
       "<style scoped>\n",
       "    .dataframe tbody tr th:only-of-type {\n",
       "        vertical-align: middle;\n",
       "    }\n",
       "\n",
       "    .dataframe tbody tr th {\n",
       "        vertical-align: top;\n",
       "    }\n",
       "\n",
       "    .dataframe thead th {\n",
       "        text-align: right;\n",
       "    }\n",
       "</style>\n",
       "<table border=\"1\" class=\"dataframe\">\n",
       "  <thead>\n",
       "    <tr style=\"text-align: right;\">\n",
       "      <th></th>\n",
       "      <th>LYLTY_CARD_NBR</th>\n",
       "    </tr>\n",
       "  </thead>\n",
       "  <tbody>\n",
       "    <tr>\n",
       "      <th>count</th>\n",
       "      <td>7.263700e+04</td>\n",
       "    </tr>\n",
       "    <tr>\n",
       "      <th>mean</th>\n",
       "      <td>1.361859e+05</td>\n",
       "    </tr>\n",
       "    <tr>\n",
       "      <th>std</th>\n",
       "      <td>8.989293e+04</td>\n",
       "    </tr>\n",
       "    <tr>\n",
       "      <th>min</th>\n",
       "      <td>1.000000e+03</td>\n",
       "    </tr>\n",
       "    <tr>\n",
       "      <th>25%</th>\n",
       "      <td>6.620200e+04</td>\n",
       "    </tr>\n",
       "    <tr>\n",
       "      <th>50%</th>\n",
       "      <td>1.340400e+05</td>\n",
       "    </tr>\n",
       "    <tr>\n",
       "      <th>75%</th>\n",
       "      <td>2.033750e+05</td>\n",
       "    </tr>\n",
       "    <tr>\n",
       "      <th>max</th>\n",
       "      <td>2.373711e+06</td>\n",
       "    </tr>\n",
       "  </tbody>\n",
       "</table>\n",
       "</div>"
      ],
      "text/plain": [
       "       LYLTY_CARD_NBR\n",
       "count    7.263700e+04\n",
       "mean     1.361859e+05\n",
       "std      8.989293e+04\n",
       "min      1.000000e+03\n",
       "25%      6.620200e+04\n",
       "50%      1.340400e+05\n",
       "75%      2.033750e+05\n",
       "max      2.373711e+06"
      ]
     },
     "execution_count": 15,
     "metadata": {
     },
     "output_type": "execute_result"
    }
   ],
   "source": [
    "prch_bvr.describe()"
   ]
  },
  {
   "cell_type": "code",
   "execution_count": 16,
   "metadata": {
    "collapsed": false
   },
   "outputs": [
    {
     "name": "stdout",
     "output_type": "stream",
     "text": [
      "<class 'pandas.core.frame.DataFrame'>\n",
      "RangeIndex: 72637 entries, 0 to 72636\n",
      "Data columns (total 3 columns):\n",
      " #   Column            Non-Null Count  Dtype \n",
      "---  ------            --------------  ----- \n",
      " 0   LYLTY_CARD_NBR    72637 non-null  int64 \n",
      " 1   LIFESTAGE         72637 non-null  object\n",
      " 2   PREMIUM_CUSTOMER  72637 non-null  object\n",
      "dtypes: int64(1), object(2)\n",
      "memory usage: 1.7+ MB\n"
     ]
    }
   ],
   "source": [
    "prch_bvr.info()"
   ]
  },
  {
   "cell_type": "code",
   "execution_count": 17,
   "metadata": {
    "collapsed": false
   },
   "outputs": [
    {
     "data": {
      "text/plain": [
       "LYLTY_CARD_NBR      0\n",
       "LIFESTAGE           0\n",
       "PREMIUM_CUSTOMER    0\n",
       "dtype: int64"
      ]
     },
     "execution_count": 17,
     "metadata": {
     },
     "output_type": "execute_result"
    }
   ],
   "source": [
    "prch_bvr.isnull().sum()"
   ]
  },
  {
   "cell_type": "code",
   "execution_count": 18,
   "metadata": {
    "collapsed": false
   },
   "outputs": [
    {
     "data": {
      "text/plain": [
       "LYLTY_CARD_NBR      72637\n",
       "LIFESTAGE               7\n",
       "PREMIUM_CUSTOMER        3\n",
       "dtype: int64"
      ]
     },
     "execution_count": 18,
     "metadata": {
     },
     "output_type": "execute_result"
    }
   ],
   "source": [
    "prch_bvr.nunique()"
   ]
  },
  {
   "cell_type": "markdown",
   "metadata": {
    "collapsed": false
   },
   "source": [
    "#### **MERGING BOTH DATA**"
   ]
  },
  {
   "cell_type": "code",
   "execution_count": 19,
   "metadata": {
    "collapsed": false
   },
   "outputs": [
    {
     "data": {
      "text/html": [
       "<div>\n",
       "<style scoped>\n",
       "    .dataframe tbody tr th:only-of-type {\n",
       "        vertical-align: middle;\n",
       "    }\n",
       "\n",
       "    .dataframe tbody tr th {\n",
       "        vertical-align: top;\n",
       "    }\n",
       "\n",
       "    .dataframe thead th {\n",
       "        text-align: right;\n",
       "    }\n",
       "</style>\n",
       "<table border=\"1\" class=\"dataframe\">\n",
       "  <thead>\n",
       "    <tr style=\"text-align: right;\">\n",
       "      <th></th>\n",
       "      <th>DATE</th>\n",
       "      <th>STORE_NBR</th>\n",
       "      <th>LYLTY_CARD_NBR</th>\n",
       "      <th>TXN_ID</th>\n",
       "      <th>PROD_NBR</th>\n",
       "      <th>PROD_NAME</th>\n",
       "      <th>PROD_QTY</th>\n",
       "      <th>TOT_SALES</th>\n",
       "      <th>LIFESTAGE</th>\n",
       "      <th>PREMIUM_CUSTOMER</th>\n",
       "    </tr>\n",
       "  </thead>\n",
       "  <tbody>\n",
       "    <tr>\n",
       "      <th>0</th>\n",
       "      <td>2018-10-17</td>\n",
       "      <td>1</td>\n",
       "      <td>1000</td>\n",
       "      <td>1</td>\n",
       "      <td>5</td>\n",
       "      <td>Natural Chip        Compny SeaSalt175g</td>\n",
       "      <td>2</td>\n",
       "      <td>6.0</td>\n",
       "      <td>YOUNG SINGLES/COUPLES</td>\n",
       "      <td>Premium</td>\n",
       "    </tr>\n",
       "    <tr>\n",
       "      <th>1</th>\n",
       "      <td>2018-09-16</td>\n",
       "      <td>1</td>\n",
       "      <td>1002</td>\n",
       "      <td>2</td>\n",
       "      <td>58</td>\n",
       "      <td>Red Rock Deli Chikn&amp;Garlic Aioli 150g</td>\n",
       "      <td>1</td>\n",
       "      <td>2.7</td>\n",
       "      <td>YOUNG SINGLES/COUPLES</td>\n",
       "      <td>Mainstream</td>\n",
       "    </tr>\n",
       "    <tr>\n",
       "      <th>2</th>\n",
       "      <td>2019-03-07</td>\n",
       "      <td>1</td>\n",
       "      <td>1003</td>\n",
       "      <td>3</td>\n",
       "      <td>52</td>\n",
       "      <td>Grain Waves Sour    Cream&amp;Chives 210G</td>\n",
       "      <td>1</td>\n",
       "      <td>3.6</td>\n",
       "      <td>YOUNG FAMILIES</td>\n",
       "      <td>Budget</td>\n",
       "    </tr>\n",
       "    <tr>\n",
       "      <th>3</th>\n",
       "      <td>2019-03-08</td>\n",
       "      <td>1</td>\n",
       "      <td>1003</td>\n",
       "      <td>4</td>\n",
       "      <td>106</td>\n",
       "      <td>Natural ChipCo      Hony Soy Chckn175g</td>\n",
       "      <td>1</td>\n",
       "      <td>3.0</td>\n",
       "      <td>YOUNG FAMILIES</td>\n",
       "      <td>Budget</td>\n",
       "    </tr>\n",
       "    <tr>\n",
       "      <th>4</th>\n",
       "      <td>2018-11-02</td>\n",
       "      <td>1</td>\n",
       "      <td>1004</td>\n",
       "      <td>5</td>\n",
       "      <td>96</td>\n",
       "      <td>WW Original Stacked Chips 160g</td>\n",
       "      <td>1</td>\n",
       "      <td>1.9</td>\n",
       "      <td>OLDER SINGLES/COUPLES</td>\n",
       "      <td>Mainstream</td>\n",
       "    </tr>\n",
       "  </tbody>\n",
       "</table>\n",
       "</div>"
      ],
      "text/plain": [
       "        DATE  STORE_NBR  LYLTY_CARD_NBR  TXN_ID  PROD_NBR  \\\n",
       "0 2018-10-17          1            1000       1         5   \n",
       "1 2018-09-16          1            1002       2        58   \n",
       "2 2019-03-07          1            1003       3        52   \n",
       "3 2019-03-08          1            1003       4       106   \n",
       "4 2018-11-02          1            1004       5        96   \n",
       "\n",
       "                                PROD_NAME  PROD_QTY  TOT_SALES  \\\n",
       "0  Natural Chip        Compny SeaSalt175g         2        6.0   \n",
       "1   Red Rock Deli Chikn&Garlic Aioli 150g         1        2.7   \n",
       "2   Grain Waves Sour    Cream&Chives 210G         1        3.6   \n",
       "3  Natural ChipCo      Hony Soy Chckn175g         1        3.0   \n",
       "4          WW Original Stacked Chips 160g         1        1.9   \n",
       "\n",
       "               LIFESTAGE PREMIUM_CUSTOMER  \n",
       "0  YOUNG SINGLES/COUPLES          Premium  \n",
       "1  YOUNG SINGLES/COUPLES       Mainstream  \n",
       "2         YOUNG FAMILIES           Budget  \n",
       "3         YOUNG FAMILIES           Budget  \n",
       "4  OLDER SINGLES/COUPLES       Mainstream  "
      ]
     },
     "execution_count": 19,
     "metadata": {
     },
     "output_type": "execute_result"
    }
   ],
   "source": [
    "# Merging the data of both Transaction and purchasing Data\n",
    "merged_data=pd.merge(tran_data,prch_bvr,on='LYLTY_CARD_NBR' , how='right')\n",
    "merged_data.head()"
   ]
  },
  {
   "cell_type": "code",
   "execution_count": 20,
   "metadata": {
    "collapsed": false
   },
   "outputs": [
    {
     "data": {
      "text/plain": [
       "(264836, 10)"
      ]
     },
     "execution_count": 20,
     "metadata": {
     },
     "output_type": "execute_result"
    }
   ],
   "source": [
    "merged_data.shape"
   ]
  },
  {
   "cell_type": "code",
   "execution_count": 21,
   "metadata": {
    "collapsed": false
   },
   "outputs": [
    {
     "name": "stdout",
     "output_type": "stream",
     "text": [
      "<class 'pandas.core.frame.DataFrame'>\n",
      "Int64Index: 264836 entries, 0 to 264835\n",
      "Data columns (total 10 columns):\n",
      " #   Column            Non-Null Count   Dtype         \n",
      "---  ------            --------------   -----         \n",
      " 0   DATE              264836 non-null  datetime64[ns]\n",
      " 1   STORE_NBR         264836 non-null  int64         \n",
      " 2   LYLTY_CARD_NBR    264836 non-null  int64         \n",
      " 3   TXN_ID            264836 non-null  int64         \n",
      " 4   PROD_NBR          264836 non-null  int64         \n",
      " 5   PROD_NAME         264836 non-null  object        \n",
      " 6   PROD_QTY          264836 non-null  int64         \n",
      " 7   TOT_SALES         264836 non-null  float64       \n",
      " 8   LIFESTAGE         264836 non-null  object        \n",
      " 9   PREMIUM_CUSTOMER  264836 non-null  object        \n",
      "dtypes: datetime64[ns](1), float64(1), int64(5), object(3)\n",
      "memory usage: 22.2+ MB\n"
     ]
    }
   ],
   "source": [
    "merged_data.info()"
   ]
  },
  {
   "cell_type": "code",
   "execution_count": 22,
   "metadata": {
    "collapsed": false
   },
   "outputs": [
    {
     "data": {
      "text/plain": [
       "array(['Natural Chip        Compny SeaSalt175g',\n",
       "       'Red Rock Deli Chikn&Garlic Aioli 150g',\n",
       "       'Grain Waves Sour    Cream&Chives 210G',\n",
       "       'Natural ChipCo      Hony Soy Chckn175g',\n",
       "       'WW Original Stacked Chips 160g', 'Cheetos Puffs 165g',\n",
       "       'Infuzions SourCream&Herbs Veg Strws 110g',\n",
       "       'RRD SR Slow Rst     Pork Belly 150g',\n",
       "       'Doritos Cheese      Supreme 330g', 'Doritos Mexicana    170g',\n",
       "       'Old El Paso Salsa   Dip Tomato Med 300g',\n",
       "       'GrnWves Plus Btroot & Chilli Jam 180g',\n",
       "       'Smiths Crinkle Cut  Chips Barbecue 170g',\n",
       "       'Kettle Sensations   Camembert & Fig 150g',\n",
       "       'Doritos Corn Chip Southern Chicken 150g',\n",
       "       'CCs Tasty Cheese    175g', 'Tostitos Splash Of  Lime 175g',\n",
       "       'Kettle 135g Swt Pot Sea Salt', 'RRD Salt & Vinegar  165g',\n",
       "       'Infuzions Mango     Chutny Papadums 70g',\n",
       "       'Smiths Crinkle Cut  Snag&Sauce 150g',\n",
       "       'Smiths Crinkle      Original 330g',\n",
       "       'RRD Sweet Chilli &  Sour Cream 165g',\n",
       "       'Smiths Chip Thinly  S/Cream&Onion 175g',\n",
       "       'Smiths Crinkle Chips Salt & Vinegar 330g',\n",
       "       'Red Rock Deli SR    Salsa & Mzzrlla 150g',\n",
       "       'Cobs Popd Sea Salt  Chips 110g',\n",
       "       'Natural ChipCo Sea  Salt & Vinegr 175g',\n",
       "       'Natural Chip Co     Tmato Hrb&Spce 175g', 'Burger Rings 220g',\n",
       "       'Woolworths Cheese   Rings 190g',\n",
       "       'Smiths Thinly       Swt Chli&S/Cream175G',\n",
       "       'Thins Chips Seasonedchicken 175g',\n",
       "       'Smiths Thinly Cut   Roast Chicken 175g',\n",
       "       'Tyrrells Crisps     Ched & Chives 165g',\n",
       "       'Doritos Corn Chips  Cheese Supreme 170g',\n",
       "       'Smiths Chip Thinly  Cut Original 175g',\n",
       "       'Smiths Crinkle Cut  Chips Original 170g',\n",
       "       'Thins Chips Light&  Tangy 175g',\n",
       "       'Doritos Corn Chips  Original 170g',\n",
       "       'Kettle Sensations   Siracha Lime 150g',\n",
       "       'Smiths Crinkle Cut  Salt & Vinegar 170g',\n",
       "       'Smith Crinkle Cut   Bolognese 150g', 'Cheezels Cheese 330g',\n",
       "       'Kettle Chilli 175g', 'Tyrrells Crisps     Lightly Salted 165g',\n",
       "       'Twisties Cheese     270g', 'WW Crinkle Cut      Chicken 175g',\n",
       "       'RRD Chilli&         Coconut 150g',\n",
       "       'Infuzions BBQ Rib   Prawn Crackers 110g',\n",
       "       'Sunbites Whlegrn    Crisps Frch/Onin 90g',\n",
       "       'Doritos Salsa       Medium 300g',\n",
       "       'Kettle Tortilla ChpsFeta&Garlic 150g',\n",
       "       'Smiths Crinkle Cut  French OnionDip 150g',\n",
       "       'WW D/Style Chip     Sea Salt 200g',\n",
       "       'Smiths Chip Thinly  CutSalt/Vinegr175g',\n",
       "       'Kettle Sensations   BBQ&Maple 150g',\n",
       "       'Old El Paso Salsa   Dip Tomato Mild 300g',\n",
       "       'Tostitos Smoked     Chipotle 175g', 'RRD Lime & Pepper   165g',\n",
       "       'CCs Nacho Cheese    175g', 'Snbts Whlgrn Crisps Cheddr&Mstrd 90g',\n",
       "       'Kettle Tortilla ChpsBtroot&Ricotta 150g',\n",
       "       'Pringles Sthrn FriedChicken 134g',\n",
       "       'Pringles Chicken    Salt Crips 134g',\n",
       "       'French Fries Potato Chips 175g',\n",
       "       'Kettle Mozzarella   Basil & Pesto 175g', 'CCs Original 175g',\n",
       "       'Tostitos Lightly    Salted 175g',\n",
       "       'Smiths Crnkle Chip  Orgnl Big Bag 380g',\n",
       "       'Smiths Crinkle Cut  Chips Chicken 170g',\n",
       "       'Smiths Crinkle Cut  Chips Chs&Onion170g', 'Twisties Chicken270g',\n",
       "       'Woolworths Medium   Salsa 300g',\n",
       "       'Red Rock Deli Sp    Salt & Truffle 150G',\n",
       "       'RRD Pc Sea Salt     165g', 'WW Supreme Cheese   Corn Chips 200g',\n",
       "       'WW Original Corn    Chips 200g', 'Woolworths Mild     Salsa 300g',\n",
       "       'Cheezels Cheese Box 125g', 'Doritos Salsa Mild  300g',\n",
       "       'Cobs Popd Swt/Chlli &Sr/Cream Chips 110g',\n",
       "       'Infzns Crn Crnchers Tangy Gcamole 110g',\n",
       "       'WW Sour Cream &OnionStacked Chips 160g',\n",
       "       'Pringles Mystery    Flavour 134g', 'Pringles Barbeque   134g',\n",
       "       'Grain Waves         Sweet Chilli 210g',\n",
       "       'Pringles Sweet&Spcy BBQ 134g', 'Kettle Original 175g',\n",
       "       'Infuzions Thai SweetChili PotatoMix 110g',\n",
       "       'Old El Paso Salsa   Dip Chnky Tom Ht300g',\n",
       "       'Smiths Crinkle Cut  Tomato Salsa 150g',\n",
       "       'Cheetos Chs & Bacon Balls 190g',\n",
       "       'Kettle Sweet Chilli And Sour Cream 175g',\n",
       "       'Doritos Corn Chips  Nacho Cheese 170g',\n",
       "       'Cobs Popd Sour Crm  &Chives Chips 110g',\n",
       "       'Red Rock Deli Thai  Chilli&Lime 150g',\n",
       "       'Twisties Cheese     Burger 250g',\n",
       "       'Kettle Sea Salt     And Vinegar 175g',\n",
       "       'WW Crinkle Cut      Original 175g',\n",
       "       'Dorito Corn Chp     Supreme 380g',\n",
       "       'Doritos Corn Chip Mexican Jalapeno 150g',\n",
       "       'Pringles SourCream  Onion 134g',\n",
       "       'Kettle Tortilla ChpsHny&Jlpno Chili 150g',\n",
       "       'RRD Steak &         Chimuchurri 150g',\n",
       "       'Thins Chips Salt &  Vinegar 175g',\n",
       "       'Thins Chips         Originl saltd 175g',\n",
       "       'RRD Honey Soy       Chicken 165g',\n",
       "       'Kettle Honey Soy    Chicken 175g',\n",
       "       'NCC Sour Cream &    Garden Chives 175g',\n",
       "       'Pringles Original   Crisps 134g',\n",
       "       'Smith Crinkle Cut   Mac N Cheese 150g',\n",
       "       'Thins Potato Chips  Hot & Spicy 175g', 'Pringles Slt Vingar 134g'],\n",
       "      dtype=object)"
      ]
     },
     "execution_count": 22,
     "metadata": {
     },
     "output_type": "execute_result"
    }
   ],
   "source": [
    "merged_data['PROD_NAME'].unique()"
   ]
  },
  {
   "cell_type": "code",
   "execution_count": 23,
   "metadata": {
    "collapsed": false
   },
   "outputs": [
    {
     "name": "stderr",
     "output_type": "stream",
     "text": [
      "/tmp/ipykernel_1840/3022219261.py:1: FutureWarning: The default value of regex will change from True to False in a future version.\n",
      "  split_prods = merged_data[\"PROD_NAME\"].str.replace(r'([0-9]+[gG])','').str.replace(r'[^\\w]',' ').str.split()\n"
     ]
    }
   ],
   "source": [
    "split_prods = merged_data[\"PROD_NAME\"].str.replace(r'([0-9]+[gG])','').str.replace(r'[^\\w]',' ').str.split()"
   ]
  },
  {
   "cell_type": "code",
   "execution_count": 24,
   "metadata": {
    "collapsed": false
   },
   "outputs": [
    {
     "name": "stdout",
     "output_type": "stream",
     "text": [
      "Chips     49770\n",
      "Kettle    41288\n",
      "Smiths    28860\n",
      "Salt      27976\n",
      "Cheese    27890\n",
      "          ...  \n",
      "Onin       1432\n",
      "Pc         1431\n",
      "NCC        1419\n",
      "Garden     1419\n",
      "Fries      1418\n",
      "Length: 198, dtype: int64\n"
     ]
    }
   ],
   "source": [
    "word_counts = {}\n",
    "def count_words(line):\n",
    "  for word in line:\n",
    "    if word not in word_counts:\n",
    "      word_counts[word] = 1\n",
    "    else:\n",
    "      word_counts[word] += 1\n",
    "split_prods.apply(lambda line: count_words(line))\n",
    "print(pd.Series(word_counts).sort_values(ascending = False))"
   ]
  },
  {
   "cell_type": "code",
   "execution_count": 25,
   "metadata": {
    "collapsed": false
   },
   "outputs": [
    {
     "data": {
      "text/html": [
       "<div>\n",
       "<style scoped>\n",
       "    .dataframe tbody tr th:only-of-type {\n",
       "        vertical-align: middle;\n",
       "    }\n",
       "\n",
       "    .dataframe tbody tr th {\n",
       "        vertical-align: top;\n",
       "    }\n",
       "\n",
       "    .dataframe thead th {\n",
       "        text-align: right;\n",
       "    }\n",
       "</style>\n",
       "<table border=\"1\" class=\"dataframe\">\n",
       "  <thead>\n",
       "    <tr style=\"text-align: right;\">\n",
       "      <th></th>\n",
       "      <th>STORE_NBR</th>\n",
       "      <th>LYLTY_CARD_NBR</th>\n",
       "      <th>TXN_ID</th>\n",
       "      <th>PROD_NBR</th>\n",
       "      <th>PROD_QTY</th>\n",
       "      <th>TOT_SALES</th>\n",
       "    </tr>\n",
       "  </thead>\n",
       "  <tbody>\n",
       "    <tr>\n",
       "      <th>count</th>\n",
       "      <td>264836.00000</td>\n",
       "      <td>2.648360e+05</td>\n",
       "      <td>2.648360e+05</td>\n",
       "      <td>264836.000000</td>\n",
       "      <td>264836.000000</td>\n",
       "      <td>264836.000000</td>\n",
       "    </tr>\n",
       "    <tr>\n",
       "      <th>mean</th>\n",
       "      <td>135.08011</td>\n",
       "      <td>1.355495e+05</td>\n",
       "      <td>1.351583e+05</td>\n",
       "      <td>56.583157</td>\n",
       "      <td>1.907309</td>\n",
       "      <td>7.304200</td>\n",
       "    </tr>\n",
       "    <tr>\n",
       "      <th>std</th>\n",
       "      <td>76.78418</td>\n",
       "      <td>8.057998e+04</td>\n",
       "      <td>7.813303e+04</td>\n",
       "      <td>32.826638</td>\n",
       "      <td>0.643654</td>\n",
       "      <td>3.083226</td>\n",
       "    </tr>\n",
       "    <tr>\n",
       "      <th>min</th>\n",
       "      <td>1.00000</td>\n",
       "      <td>1.000000e+03</td>\n",
       "      <td>1.000000e+00</td>\n",
       "      <td>1.000000</td>\n",
       "      <td>1.000000</td>\n",
       "      <td>1.500000</td>\n",
       "    </tr>\n",
       "    <tr>\n",
       "      <th>25%</th>\n",
       "      <td>70.00000</td>\n",
       "      <td>7.002100e+04</td>\n",
       "      <td>6.760150e+04</td>\n",
       "      <td>28.000000</td>\n",
       "      <td>2.000000</td>\n",
       "      <td>5.400000</td>\n",
       "    </tr>\n",
       "    <tr>\n",
       "      <th>50%</th>\n",
       "      <td>130.00000</td>\n",
       "      <td>1.303575e+05</td>\n",
       "      <td>1.351375e+05</td>\n",
       "      <td>56.000000</td>\n",
       "      <td>2.000000</td>\n",
       "      <td>7.400000</td>\n",
       "    </tr>\n",
       "    <tr>\n",
       "      <th>75%</th>\n",
       "      <td>203.00000</td>\n",
       "      <td>2.030942e+05</td>\n",
       "      <td>2.027012e+05</td>\n",
       "      <td>85.000000</td>\n",
       "      <td>2.000000</td>\n",
       "      <td>9.200000</td>\n",
       "    </tr>\n",
       "    <tr>\n",
       "      <th>max</th>\n",
       "      <td>272.00000</td>\n",
       "      <td>2.373711e+06</td>\n",
       "      <td>2.415841e+06</td>\n",
       "      <td>114.000000</td>\n",
       "      <td>200.000000</td>\n",
       "      <td>650.000000</td>\n",
       "    </tr>\n",
       "  </tbody>\n",
       "</table>\n",
       "</div>"
      ],
      "text/plain": [
       "          STORE_NBR  LYLTY_CARD_NBR        TXN_ID       PROD_NBR  \\\n",
       "count  264836.00000    2.648360e+05  2.648360e+05  264836.000000   \n",
       "mean      135.08011    1.355495e+05  1.351583e+05      56.583157   \n",
       "std        76.78418    8.057998e+04  7.813303e+04      32.826638   \n",
       "min         1.00000    1.000000e+03  1.000000e+00       1.000000   \n",
       "25%        70.00000    7.002100e+04  6.760150e+04      28.000000   \n",
       "50%       130.00000    1.303575e+05  1.351375e+05      56.000000   \n",
       "75%       203.00000    2.030942e+05  2.027012e+05      85.000000   \n",
       "max       272.00000    2.373711e+06  2.415841e+06     114.000000   \n",
       "\n",
       "            PROD_QTY      TOT_SALES  \n",
       "count  264836.000000  264836.000000  \n",
       "mean        1.907309       7.304200  \n",
       "std         0.643654       3.083226  \n",
       "min         1.000000       1.500000  \n",
       "25%         2.000000       5.400000  \n",
       "50%         2.000000       7.400000  \n",
       "75%         2.000000       9.200000  \n",
       "max       200.000000     650.000000  "
      ]
     },
     "execution_count": 25,
     "metadata": {
     },
     "output_type": "execute_result"
    }
   ],
   "source": [
    "merged_data.describe()"
   ]
  },
  {
   "cell_type": "code",
   "execution_count": 26,
   "metadata": {
    "collapsed": false
   },
   "outputs": [
    {
     "name": "stdout",
     "output_type": "stream",
     "text": [
      "<class 'pandas.core.frame.DataFrame'>\n",
      "Int64Index: 264836 entries, 0 to 264835\n",
      "Data columns (total 10 columns):\n",
      " #   Column            Non-Null Count   Dtype         \n",
      "---  ------            --------------   -----         \n",
      " 0   DATE              264836 non-null  datetime64[ns]\n",
      " 1   STORE_NBR         264836 non-null  int64         \n",
      " 2   LYLTY_CARD_NBR    264836 non-null  int64         \n",
      " 3   TXN_ID            264836 non-null  int64         \n",
      " 4   PROD_NBR          264836 non-null  int64         \n",
      " 5   PROD_NAME         264836 non-null  object        \n",
      " 6   PROD_QTY          264836 non-null  int64         \n",
      " 7   TOT_SALES         264836 non-null  float64       \n",
      " 8   LIFESTAGE         264836 non-null  object        \n",
      " 9   PREMIUM_CUSTOMER  264836 non-null  object        \n",
      "dtypes: datetime64[ns](1), float64(1), int64(5), object(3)\n",
      "memory usage: 22.2+ MB\n"
     ]
    }
   ],
   "source": [
    "merged_data.info()"
   ]
  },
  {
   "cell_type": "code",
   "execution_count": 27,
   "metadata": {
    "collapsed": false
   },
   "outputs": [
    {
     "data": {
      "text/plain": [
       "1       27518\n",
       "2      236039\n",
       "3         430\n",
       "4         397\n",
       "5         450\n",
       "200         2\n",
       "Name: PROD_QTY, dtype: int64"
      ]
     },
     "execution_count": 27,
     "metadata": {
     },
     "output_type": "execute_result"
    }
   ],
   "source": [
    "merged_data['PROD_QTY'].value_counts().sort_index()"
   ]
  },
  {
   "cell_type": "markdown",
   "metadata": {
    "collapsed": false
   },
   "source": [
    "##### **We have two occurences of 200 in the dataset. This seems odd so let's remove these.**"
   ]
  },
  {
   "cell_type": "code",
   "execution_count": 28,
   "metadata": {
    "collapsed": false
   },
   "outputs": [
    {
     "data": {
      "text/html": [
       "<div>\n",
       "<style scoped>\n",
       "    .dataframe tbody tr th:only-of-type {\n",
       "        vertical-align: middle;\n",
       "    }\n",
       "\n",
       "    .dataframe tbody tr th {\n",
       "        vertical-align: top;\n",
       "    }\n",
       "\n",
       "    .dataframe thead th {\n",
       "        text-align: right;\n",
       "    }\n",
       "</style>\n",
       "<table border=\"1\" class=\"dataframe\">\n",
       "  <thead>\n",
       "    <tr style=\"text-align: right;\">\n",
       "      <th></th>\n",
       "      <th>DATE</th>\n",
       "      <th>STORE_NBR</th>\n",
       "      <th>LYLTY_CARD_NBR</th>\n",
       "      <th>TXN_ID</th>\n",
       "      <th>PROD_NBR</th>\n",
       "      <th>PROD_NAME</th>\n",
       "      <th>PROD_QTY</th>\n",
       "      <th>TOT_SALES</th>\n",
       "      <th>LIFESTAGE</th>\n",
       "      <th>PREMIUM_CUSTOMER</th>\n",
       "    </tr>\n",
       "  </thead>\n",
       "  <tbody>\n",
       "    <tr>\n",
       "      <th>221625</th>\n",
       "      <td>2018-08-19</td>\n",
       "      <td>226</td>\n",
       "      <td>226000</td>\n",
       "      <td>226201</td>\n",
       "      <td>4</td>\n",
       "      <td>Dorito Corn Chp     Supreme 380g</td>\n",
       "      <td>200</td>\n",
       "      <td>650.0</td>\n",
       "      <td>OLDER FAMILIES</td>\n",
       "      <td>Premium</td>\n",
       "    </tr>\n",
       "    <tr>\n",
       "      <th>221626</th>\n",
       "      <td>2019-05-20</td>\n",
       "      <td>226</td>\n",
       "      <td>226000</td>\n",
       "      <td>226210</td>\n",
       "      <td>4</td>\n",
       "      <td>Dorito Corn Chp     Supreme 380g</td>\n",
       "      <td>200</td>\n",
       "      <td>650.0</td>\n",
       "      <td>OLDER FAMILIES</td>\n",
       "      <td>Premium</td>\n",
       "    </tr>\n",
       "  </tbody>\n",
       "</table>\n",
       "</div>"
      ],
      "text/plain": [
       "             DATE  STORE_NBR  LYLTY_CARD_NBR  TXN_ID  PROD_NBR  \\\n",
       "221625 2018-08-19        226          226000  226201         4   \n",
       "221626 2019-05-20        226          226000  226210         4   \n",
       "\n",
       "                               PROD_NAME  PROD_QTY  TOT_SALES       LIFESTAGE  \\\n",
       "221625  Dorito Corn Chp     Supreme 380g       200      650.0  OLDER FAMILIES   \n",
       "221626  Dorito Corn Chp     Supreme 380g       200      650.0  OLDER FAMILIES   \n",
       "\n",
       "       PREMIUM_CUSTOMER  \n",
       "221625          Premium  \n",
       "221626          Premium  "
      ]
     },
     "execution_count": 28,
     "metadata": {
     },
     "output_type": "execute_result"
    }
   ],
   "source": [
    "merged_data.loc[merged_data['PROD_QTY']==200,:]"
   ]
  },
  {
   "cell_type": "markdown",
   "metadata": {
    "collapsed": false
   },
   "source": [
    "##### **Both these transactions made by same customer with a LYLTY_CARD_NBR=226000 ,now let's see other transactions**"
   ]
  },
  {
   "cell_type": "code",
   "execution_count": 29,
   "metadata": {
    "collapsed": false
   },
   "outputs": [
    {
     "data": {
      "text/html": [
       "<div>\n",
       "<style scoped>\n",
       "    .dataframe tbody tr th:only-of-type {\n",
       "        vertical-align: middle;\n",
       "    }\n",
       "\n",
       "    .dataframe tbody tr th {\n",
       "        vertical-align: top;\n",
       "    }\n",
       "\n",
       "    .dataframe thead th {\n",
       "        text-align: right;\n",
       "    }\n",
       "</style>\n",
       "<table border=\"1\" class=\"dataframe\">\n",
       "  <thead>\n",
       "    <tr style=\"text-align: right;\">\n",
       "      <th></th>\n",
       "      <th>DATE</th>\n",
       "      <th>STORE_NBR</th>\n",
       "      <th>LYLTY_CARD_NBR</th>\n",
       "      <th>TXN_ID</th>\n",
       "      <th>PROD_NBR</th>\n",
       "      <th>PROD_NAME</th>\n",
       "      <th>PROD_QTY</th>\n",
       "      <th>TOT_SALES</th>\n",
       "      <th>LIFESTAGE</th>\n",
       "      <th>PREMIUM_CUSTOMER</th>\n",
       "    </tr>\n",
       "  </thead>\n",
       "  <tbody>\n",
       "    <tr>\n",
       "      <th>221625</th>\n",
       "      <td>2018-08-19</td>\n",
       "      <td>226</td>\n",
       "      <td>226000</td>\n",
       "      <td>226201</td>\n",
       "      <td>4</td>\n",
       "      <td>Dorito Corn Chp     Supreme 380g</td>\n",
       "      <td>200</td>\n",
       "      <td>650.0</td>\n",
       "      <td>OLDER FAMILIES</td>\n",
       "      <td>Premium</td>\n",
       "    </tr>\n",
       "    <tr>\n",
       "      <th>221626</th>\n",
       "      <td>2019-05-20</td>\n",
       "      <td>226</td>\n",
       "      <td>226000</td>\n",
       "      <td>226210</td>\n",
       "      <td>4</td>\n",
       "      <td>Dorito Corn Chp     Supreme 380g</td>\n",
       "      <td>200</td>\n",
       "      <td>650.0</td>\n",
       "      <td>OLDER FAMILIES</td>\n",
       "      <td>Premium</td>\n",
       "    </tr>\n",
       "  </tbody>\n",
       "</table>\n",
       "</div>"
      ],
      "text/plain": [
       "             DATE  STORE_NBR  LYLTY_CARD_NBR  TXN_ID  PROD_NBR  \\\n",
       "221625 2018-08-19        226          226000  226201         4   \n",
       "221626 2019-05-20        226          226000  226210         4   \n",
       "\n",
       "                               PROD_NAME  PROD_QTY  TOT_SALES       LIFESTAGE  \\\n",
       "221625  Dorito Corn Chp     Supreme 380g       200      650.0  OLDER FAMILIES   \n",
       "221626  Dorito Corn Chp     Supreme 380g       200      650.0  OLDER FAMILIES   \n",
       "\n",
       "       PREMIUM_CUSTOMER  \n",
       "221625          Premium  \n",
       "221626          Premium  "
      ]
     },
     "execution_count": 29,
     "metadata": {
     },
     "output_type": "execute_result"
    }
   ],
   "source": [
    "merged_data.loc[merged_data['LYLTY_CARD_NBR']==226000,:]"
   ]
  },
  {
   "cell_type": "markdown",
   "metadata": {
    "collapsed": false
   },
   "source": [
    "###### **There are only 2 transactions over a period of year so he/she is a commercial customer not a retailer. so it is safe to remove the data from merged_data.**"
   ]
  },
  {
   "cell_type": "code",
   "execution_count": 30,
   "metadata": {
    "collapsed": false
   },
   "outputs": [
    {
     "data": {
      "text/plain": [
       "1     27518\n",
       "2    236039\n",
       "3       430\n",
       "4       397\n",
       "5       450\n",
       "Name: PROD_QTY, dtype: int64"
      ]
     },
     "execution_count": 30,
     "metadata": {
     },
     "output_type": "execute_result"
    }
   ],
   "source": [
    "merged_data=merged_data.loc[merged_data['PROD_QTY']<6]\n",
    "merged_data['PROD_QTY'].value_counts().sort_index()"
   ]
  },
  {
   "cell_type": "code",
   "execution_count": 31,
   "metadata": {
    "collapsed": false
   },
   "outputs": [
    {
     "data": {
      "text/plain": [
       "364"
      ]
     },
     "execution_count": 31,
     "metadata": {
     },
     "output_type": "execute_result"
    }
   ],
   "source": [
    "merged_data['DATE'].nunique()"
   ]
  },
  {
   "cell_type": "markdown",
   "metadata": {
    "collapsed": false
   },
   "source": [
    "##### **There are 365 days in a year but it is showing there are only 364 unique values which means one day is missing**"
   ]
  },
  {
   "cell_type": "code",
   "execution_count": 32,
   "metadata": {
    "collapsed": false
   },
   "outputs": [
    {
     "data": {
      "text/plain": [
       "DatetimeIndex(['2018-12-25'], dtype='datetime64[ns]', freq=None)"
      ]
     },
     "execution_count": 32,
     "metadata": {
     },
     "output_type": "execute_result"
    }
   ],
   "source": [
    "pd.date_range(start=merged_data['DATE'].min(),end=merged_data['DATE'].max()).difference(merged_data['DATE'])"
   ]
  },
  {
   "cell_type": "code",
   "execution_count": 33,
   "metadata": {
    "collapsed": false
   },
   "outputs": [
   ],
   "source": [
    "check_null_date = pd.merge(pd.Series(pd.date_range(start=merged_data[\"DATE\"].min(), end = merged_data[\"DATE\"].max()), name=\"DATE\"), merged_data, on = \"DATE\", how = \"left\")"
   ]
  },
  {
   "cell_type": "code",
   "execution_count": 34,
   "metadata": {
    "collapsed": false
   },
   "outputs": [
    {
     "name": "stderr",
     "output_type": "stream",
     "text": [
      "/tmp/ipykernel_1840/3338362590.py:2: FutureWarning: The pandas.datetime class is deprecated and will be removed from pandas in a future version. Import from datetime module instead.\n",
      "  dec = trans_by_date[(trans_by_date.index >= pd.datetime(2018,12,1)) & (trans_by_date.index < pd.datetime(2019,1,1))].sort_index()\n"
     ]
    },
    {
     "data": {
      "image/png": "[encoded data removed]",
      "text/plain": [
       "<Figure size 1080x216 with 1 Axes>"
      ]
     },
     "execution_count": 34,
     "metadata": {
      "image/png": {
       "height": 209,
       "width": 877
      },
      "needs_background": "light"
     },
     "output_type": "execute_result"
    }
   ],
   "source": [
    "trans_by_date = check_null_date[\"DATE\"].value_counts()\n",
    "dec = trans_by_date[(trans_by_date.index >= pd.datetime(2018,12,1)) & (trans_by_date.index < pd.datetime(2019,1,1))].sort_index()\n",
    "dec.index = dec.index.strftime('%d')\n",
    "ax = dec.plot(figsize=(15,3))\n",
    "ax.set_xticks(np.arange(len(dec)))\n",
    "ax.set_xticklabels(dec.index)\n",
    "plt.title(\"2018 December Sales\")\n",
    "plt.savefig(\"2018 December Sales.png\", bbox_inches=\"tight\")\n",
    "plt.show()"
   ]
  },
  {
   "cell_type": "markdown",
   "metadata": {
    "collapsed": false
   },
   "source": [
    "##### **The day with no transaction/sales was on 25th december,2018 which was a christmas day s0 all stores were closed.**"
   ]
  },
  {
   "cell_type": "code",
   "execution_count": 35,
   "metadata": {
    "collapsed": false
   },
   "outputs": [
    {
     "data": {
      "text/html": [
       "<div>\n",
       "<style scoped>\n",
       "    .dataframe tbody tr th:only-of-type {\n",
       "        vertical-align: middle;\n",
       "    }\n",
       "\n",
       "    .dataframe tbody tr th {\n",
       "        vertical-align: top;\n",
       "    }\n",
       "\n",
       "    .dataframe thead th {\n",
       "        text-align: right;\n",
       "    }\n",
       "</style>\n",
       "<table border=\"1\" class=\"dataframe\">\n",
       "  <thead>\n",
       "    <tr style=\"text-align: right;\">\n",
       "      <th></th>\n",
       "      <th>DATE</th>\n",
       "      <th>STORE_NBR</th>\n",
       "      <th>LYLTY_CARD_NBR</th>\n",
       "      <th>TXN_ID</th>\n",
       "      <th>PROD_NBR</th>\n",
       "      <th>PROD_NAME</th>\n",
       "      <th>PROD_QTY</th>\n",
       "      <th>TOT_SALES</th>\n",
       "      <th>LIFESTAGE</th>\n",
       "      <th>PREMIUM_CUSTOMER</th>\n",
       "      <th>PACK_SIZE</th>\n",
       "    </tr>\n",
       "  </thead>\n",
       "  <tbody>\n",
       "    <tr>\n",
       "      <th>0</th>\n",
       "      <td>2018-10-17</td>\n",
       "      <td>1</td>\n",
       "      <td>1000</td>\n",
       "      <td>1</td>\n",
       "      <td>5</td>\n",
       "      <td>Natural Chip        Compny SeaSalt175g</td>\n",
       "      <td>2</td>\n",
       "      <td>6.0</td>\n",
       "      <td>YOUNG SINGLES/COUPLES</td>\n",
       "      <td>Premium</td>\n",
       "      <td>175</td>\n",
       "    </tr>\n",
       "    <tr>\n",
       "      <th>1</th>\n",
       "      <td>2018-09-16</td>\n",
       "      <td>1</td>\n",
       "      <td>1002</td>\n",
       "      <td>2</td>\n",
       "      <td>58</td>\n",
       "      <td>Red Rock Deli Chikn&amp;Garlic Aioli 150g</td>\n",
       "      <td>1</td>\n",
       "      <td>2.7</td>\n",
       "      <td>YOUNG SINGLES/COUPLES</td>\n",
       "      <td>Mainstream</td>\n",
       "      <td>150</td>\n",
       "    </tr>\n",
       "    <tr>\n",
       "      <th>2</th>\n",
       "      <td>2019-03-07</td>\n",
       "      <td>1</td>\n",
       "      <td>1003</td>\n",
       "      <td>3</td>\n",
       "      <td>52</td>\n",
       "      <td>Grain Waves Sour    Cream&amp;Chives 210G</td>\n",
       "      <td>1</td>\n",
       "      <td>3.6</td>\n",
       "      <td>YOUNG FAMILIES</td>\n",
       "      <td>Budget</td>\n",
       "      <td>210</td>\n",
       "    </tr>\n",
       "    <tr>\n",
       "      <th>3</th>\n",
       "      <td>2019-03-08</td>\n",
       "      <td>1</td>\n",
       "      <td>1003</td>\n",
       "      <td>4</td>\n",
       "      <td>106</td>\n",
       "      <td>Natural ChipCo      Hony Soy Chckn175g</td>\n",
       "      <td>1</td>\n",
       "      <td>3.0</td>\n",
       "      <td>YOUNG FAMILIES</td>\n",
       "      <td>Budget</td>\n",
       "      <td>175</td>\n",
       "    </tr>\n",
       "    <tr>\n",
       "      <th>4</th>\n",
       "      <td>2018-11-02</td>\n",
       "      <td>1</td>\n",
       "      <td>1004</td>\n",
       "      <td>5</td>\n",
       "      <td>96</td>\n",
       "      <td>WW Original Stacked Chips 160g</td>\n",
       "      <td>1</td>\n",
       "      <td>1.9</td>\n",
       "      <td>OLDER SINGLES/COUPLES</td>\n",
       "      <td>Mainstream</td>\n",
       "      <td>160</td>\n",
       "    </tr>\n",
       "  </tbody>\n",
       "</table>\n",
       "</div>"
      ],
      "text/plain": [
       "        DATE  STORE_NBR  LYLTY_CARD_NBR  TXN_ID  PROD_NBR  \\\n",
       "0 2018-10-17          1            1000       1         5   \n",
       "1 2018-09-16          1            1002       2        58   \n",
       "2 2019-03-07          1            1003       3        52   \n",
       "3 2019-03-08          1            1003       4       106   \n",
       "4 2018-11-02          1            1004       5        96   \n",
       "\n",
       "                                PROD_NAME  PROD_QTY  TOT_SALES  \\\n",
       "0  Natural Chip        Compny SeaSalt175g         2        6.0   \n",
       "1   Red Rock Deli Chikn&Garlic Aioli 150g         1        2.7   \n",
       "2   Grain Waves Sour    Cream&Chives 210G         1        3.6   \n",
       "3  Natural ChipCo      Hony Soy Chckn175g         1        3.0   \n",
       "4          WW Original Stacked Chips 160g         1        1.9   \n",
       "\n",
       "               LIFESTAGE PREMIUM_CUSTOMER  PACK_SIZE  \n",
       "0  YOUNG SINGLES/COUPLES          Premium        175  \n",
       "1  YOUNG SINGLES/COUPLES       Mainstream        150  \n",
       "2         YOUNG FAMILIES           Budget        210  \n",
       "3         YOUNG FAMILIES           Budget        175  \n",
       "4  OLDER SINGLES/COUPLES       Mainstream        160  "
      ]
     },
     "execution_count": 35,
     "metadata": {
     },
     "output_type": "execute_result"
    }
   ],
   "source": [
    "#Extracting the weights out from the PROD_QTY\n",
    "merged_data['PACK_SIZE'] = merged_data['PROD_NAME'].str.extract(\"(\\d+)\")\n",
    "merged_data['PACK_SIZE'] = pd.to_numeric(merged_data['PACK_SIZE'])\n",
    "merged_data.head()"
   ]
  },
  {
   "cell_type": "code",
   "execution_count": 36,
   "metadata": {
    "collapsed": false
   },
   "outputs": [
    {
     "data": {
      "text/plain": [
       "Burger         1564\n",
       "CCs            4551\n",
       "Cheetos        2927\n",
       "Cheezels       4603\n",
       "Cobs           9693\n",
       "Dorito         3183\n",
       "Doritos       24962\n",
       "French         1418\n",
       "Grain          6272\n",
       "GrnWves        1468\n",
       "Infuzions     11057\n",
       "Infzns         3144\n",
       "Kettle        41288\n",
       "NCC            1419\n",
       "Natural        6050\n",
       "Old            9324\n",
       "Pringles      25102\n",
       "RRD           11894\n",
       "Red            5885\n",
       "Smith          2963\n",
       "Smiths        28860\n",
       "Snbts          1576\n",
       "Sunbites       1432\n",
       "Thins         14075\n",
       "Tostitos       9471\n",
       "Twisties       9454\n",
       "Tyrrells       6442\n",
       "WW            10320\n",
       "Woolworths     4437\n",
       "Name: PROD_NAME, dtype: int64"
      ]
     },
     "execution_count": 36,
     "metadata": {
     },
     "output_type": "execute_result"
    }
   ],
   "source": [
    "merged_data[\"PROD_NAME\"].str.split().str[0].value_counts().sort_index()"
   ]
  },
  {
   "cell_type": "markdown",
   "metadata": {
    "collapsed": false
   },
   "source": [
    "##### Some products are written more than one time like Dorito & Doritos ,Grain & GrnWves etc. Now we are making them as single product in below steps."
   ]
  },
  {
   "cell_type": "code",
   "execution_count": 37,
   "metadata": {
    "collapsed": false
   },
   "outputs": [
    {
     "data": {
      "text/plain": [
       "[Red, Rock, Deli, Sp, Salt, &, Truffle, 150G]     1498\n",
       "[Red, Rock, Deli, Thai, Chilli&Lime, 150g]        1495\n",
       "[Red, Rock, Deli, SR, Salsa, &, Mzzrlla, 150g]    1458\n",
       "[Red, Rock, Deli, Chikn&Garlic, Aioli, 150g]      1434\n",
       "Name: PROD_NAME, dtype: int64"
      ]
     },
     "execution_count": 37,
     "metadata": {
     },
     "output_type": "execute_result"
    }
   ],
   "source": [
    "merged_data[\"PROD_NAME\"].str.split()[merged_data[\"PROD_NAME\"].str.split().str[0]==\"Red\"].value_counts()"
   ]
  },
  {
   "cell_type": "code",
   "execution_count": 38,
   "metadata": {
    "collapsed": false
   },
   "outputs": [
   ],
   "source": [
    "merged_data[\"Cleaned_Brand_Names\"]=merged_data[\"PROD_NAME\"].str.split().str[0]"
   ]
  },
  {
   "cell_type": "code",
   "execution_count": 39,
   "metadata": {
    "collapsed": false
   },
   "outputs": [
   ],
   "source": [
    "def clean_brand_names(line):\n",
    "    brand=line[\"Cleaned_Brand_Names\"]\n",
    "    if brand==\"Dorito\":\n",
    "      return\"Doritos\"\n",
    "    elif brand==\"Grain\" or brand==\"GrnWves\":\n",
    "      return \"Grain Waves\"\n",
    "    elif brand==\"infzns\":\n",
    "      return \"Infuzions\"\n",
    "    elif brand==\"Natural\" or brand== \"NCC\":\n",
    "     return \"Natural chip co\"\n",
    "    elif brand==\"Red\":\n",
    "     return \"RRD\"\n",
    "    elif brand==\"Smith\":\n",
    "     return \"Smiths\"\n",
    "    elif brand==\"Snbts\":\n",
    "     return \"Sunbites\"\n",
    "    elif brand==\"WW\":\n",
    "     return \"Woolworths\"\n",
    "    else:\n",
    "     return brand"
   ]
  },
  {
   "cell_type": "code",
   "execution_count": 40,
   "metadata": {
    "collapsed": false
   },
   "outputs": [
   ],
   "source": [
    "merged_data[\"Cleaned_Brand_Names\"]=merged_data.apply(lambda line:clean_brand_names(line),axis=1)"
   ]
  },
  {
   "cell_type": "code",
   "execution_count": 41,
   "metadata": {
    "collapsed": false
   },
   "outputs": [
    {
     "data": {
      "text/plain": [
       "<AxesSubplot: >"
      ]
     },
     "execution_count": 41,
     "metadata": {
     },
     "output_type": "execute_result"
    },
    {
     "data": {
      "image/png": "[encoded data removed]",
      "text/plain": [
       "<Figure size 720x432 with 1 Axes>"
      ]
     },
     "execution_count": 41,
     "metadata": {
      "image/png": {
       "height": 357,
       "width": 655
      },
      "needs_background": "light"
     },
     "output_type": "execute_result"
    }
   ],
   "source": [
    "merged_data[\"Cleaned_Brand_Names\"].value_counts(ascending=True).plot.barh(figsize=(10,6))"
   ]
  },
  {
   "cell_type": "code",
   "execution_count": 42,
   "metadata": {
    "collapsed": false
   },
   "outputs": [
    {
     "data": {
      "text/plain": [
       "DATE                   0\n",
       "STORE_NBR              0\n",
       "LYLTY_CARD_NBR         0\n",
       "TXN_ID                 0\n",
       "PROD_NBR               0\n",
       "PROD_NAME              0\n",
       "PROD_QTY               0\n",
       "TOT_SALES              0\n",
       "LIFESTAGE              0\n",
       "PREMIUM_CUSTOMER       0\n",
       "PACK_SIZE              0\n",
       "Cleaned_Brand_Names    0\n",
       "dtype: int64"
      ]
     },
     "execution_count": 42,
     "metadata": {
     },
     "output_type": "execute_result"
    }
   ],
   "source": [
    "merged_data.isnull().sum()"
   ]
  },
  {
   "cell_type": "markdown",
   "metadata": {
    "collapsed": false
   },
   "source": [
    "#### **AIM:**\n",
    "\n",
    "**1. Who spends the most on chips (total sales), describing customers by lifestage and how premium their general purchasing behaviour is?<br>**\n",
    "**2.How many customers are in each segment?**<br>\n",
    "**3.How many chips are bought per customer by segment?**<br>\n",
    "**4. What's the average chip price by customer segment?**<br>\n",
    "\n"
   ]
  },
  {
   "cell_type": "code",
   "execution_count": 43,
   "metadata": {
    "collapsed": false
   },
   "outputs": [
    {
     "data": {
      "text/plain": [
       "['LYLTY_CARD_NBR', 'LIFESTAGE', 'PREMIUM_CUSTOMER']"
      ]
     },
     "execution_count": 43,
     "metadata": {
     },
     "output_type": "execute_result"
    }
   ],
   "source": [
    "list(prch_bvr.columns)"
   ]
  },
  {
   "cell_type": "code",
   "execution_count": 44,
   "metadata": {
    "collapsed": false
   },
   "outputs": [
    {
     "data": {
      "text/html": [
       "<div>\n",
       "<style scoped>\n",
       "    .dataframe tbody tr th:only-of-type {\n",
       "        vertical-align: middle;\n",
       "    }\n",
       "\n",
       "    .dataframe tbody tr th {\n",
       "        vertical-align: top;\n",
       "    }\n",
       "\n",
       "    .dataframe thead th {\n",
       "        text-align: right;\n",
       "    }\n",
       "</style>\n",
       "<table border=\"1\" class=\"dataframe\">\n",
       "  <thead>\n",
       "    <tr style=\"text-align: right;\">\n",
       "      <th></th>\n",
       "      <th>LYLTY_CARD_NBR</th>\n",
       "      <th>LIFESTAGE</th>\n",
       "      <th>PREMIUM_CUSTOMER</th>\n",
       "    </tr>\n",
       "  </thead>\n",
       "  <tbody>\n",
       "    <tr>\n",
       "      <th>0</th>\n",
       "      <td>1000</td>\n",
       "      <td>YOUNG SINGLES/COUPLES</td>\n",
       "      <td>Premium</td>\n",
       "    </tr>\n",
       "    <tr>\n",
       "      <th>1</th>\n",
       "      <td>1002</td>\n",
       "      <td>YOUNG SINGLES/COUPLES</td>\n",
       "      <td>Mainstream</td>\n",
       "    </tr>\n",
       "    <tr>\n",
       "      <th>2</th>\n",
       "      <td>1003</td>\n",
       "      <td>YOUNG FAMILIES</td>\n",
       "      <td>Budget</td>\n",
       "    </tr>\n",
       "    <tr>\n",
       "      <th>3</th>\n",
       "      <td>1004</td>\n",
       "      <td>OLDER SINGLES/COUPLES</td>\n",
       "      <td>Mainstream</td>\n",
       "    </tr>\n",
       "    <tr>\n",
       "      <th>4</th>\n",
       "      <td>1005</td>\n",
       "      <td>MIDAGE SINGLES/COUPLES</td>\n",
       "      <td>Mainstream</td>\n",
       "    </tr>\n",
       "  </tbody>\n",
       "</table>\n",
       "</div>"
      ],
      "text/plain": [
       "   LYLTY_CARD_NBR               LIFESTAGE PREMIUM_CUSTOMER\n",
       "0            1000   YOUNG SINGLES/COUPLES          Premium\n",
       "1            1002   YOUNG SINGLES/COUPLES       Mainstream\n",
       "2            1003          YOUNG FAMILIES           Budget\n",
       "3            1004   OLDER SINGLES/COUPLES       Mainstream\n",
       "4            1005  MIDAGE SINGLES/COUPLES       Mainstream"
      ]
     },
     "execution_count": 44,
     "metadata": {
     },
     "output_type": "execute_result"
    }
   ],
   "source": [
    "prch_bvr.head()"
   ]
  },
  {
   "cell_type": "code",
   "execution_count": 45,
   "metadata": {
    "collapsed": false
   },
   "outputs": [
    {
     "data": {
      "text/plain": [
       "72637"
      ]
     },
     "execution_count": 45,
     "metadata": {
     },
     "output_type": "execute_result"
    }
   ],
   "source": [
    "len(prch_bvr)"
   ]
  },
  {
   "cell_type": "code",
   "execution_count": 46,
   "metadata": {
    "collapsed": false
   },
   "outputs": [
    {
     "data": {
      "text/plain": [
       "7"
      ]
     },
     "execution_count": 46,
     "metadata": {
     },
     "output_type": "execute_result"
    }
   ],
   "source": [
    "prch_bvr[\"LIFESTAGE\"].nunique()"
   ]
  },
  {
   "cell_type": "code",
   "execution_count": 47,
   "metadata": {
    "collapsed": false
   },
   "outputs": [
    {
     "data": {
      "text/plain": [
       "RETIREES                  14805\n",
       "OLDER SINGLES/COUPLES     14609\n",
       "YOUNG SINGLES/COUPLES     14441\n",
       "OLDER FAMILIES             9780\n",
       "YOUNG FAMILIES             9178\n",
       "MIDAGE SINGLES/COUPLES     7275\n",
       "NEW FAMILIES               2549\n",
       "Name: LIFESTAGE, dtype: int64"
      ]
     },
     "execution_count": 47,
     "metadata": {
     },
     "output_type": "execute_result"
    }
   ],
   "source": [
    "prch_bvr['LIFESTAGE'].value_counts().sort_values(ascending=False)"
   ]
  },
  {
   "cell_type": "code",
   "execution_count": 48,
   "metadata": {
    "collapsed": false
   },
   "outputs": [
    {
     "data": {
      "text/plain": [
       "<AxesSubplot: xlabel='count', ylabel='LIFESTAGE'>"
      ]
     },
     "execution_count": 48,
     "metadata": {
     },
     "output_type": "execute_result"
    },
    {
     "data": {
      "image/png": "[encoded data removed]",
      "text/plain": [
       "<Figure size 432x288 with 1 Axes>"
      ]
     },
     "execution_count": 48,
     "metadata": {
      "image/png": {
       "height": 261,
       "width": 505
      },
      "needs_background": "light"
     },
     "output_type": "execute_result"
    }
   ],
   "source": [
    "sns.countplot(y=prch_bvr['LIFESTAGE'],order=prch_bvr['LIFESTAGE'].value_counts().index)"
   ]
  },
  {
   "cell_type": "code",
   "execution_count": 49,
   "metadata": {
    "collapsed": false
   },
   "outputs": [
    {
     "data": {
      "text/plain": [
       "3"
      ]
     },
     "execution_count": 49,
     "metadata": {
     },
     "output_type": "execute_result"
    }
   ],
   "source": [
    "prch_bvr['PREMIUM_CUSTOMER'].nunique()"
   ]
  },
  {
   "cell_type": "code",
   "execution_count": 50,
   "metadata": {
    "collapsed": false
   },
   "outputs": [
    {
     "data": {
      "text/plain": [
       "Mainstream    29245\n",
       "Budget        24470\n",
       "Premium       18922\n",
       "Name: PREMIUM_CUSTOMER, dtype: int64"
      ]
     },
     "execution_count": 50,
     "metadata": {
     },
     "output_type": "execute_result"
    }
   ],
   "source": [
    "prch_bvr['PREMIUM_CUSTOMER'].value_counts().sort_values(ascending=False)"
   ]
  },
  {
   "cell_type": "code",
   "execution_count": 51,
   "metadata": {
    "collapsed": false
   },
   "outputs": [
    {
     "data": {
      "text/plain": [
       "Text(0, 0.5, 'Premium Customers')"
      ]
     },
     "execution_count": 51,
     "metadata": {
     },
     "output_type": "execute_result"
    },
    {
     "data": {
      "image/png": "[encoded data removed]",
      "text/plain": [
       "<Figure size 864x432 with 1 Axes>"
      ]
     },
     "execution_count": 51,
     "metadata": {
      "image/png": {
       "height": 370,
       "width": 764
      },
      "needs_background": "light"
     },
     "output_type": "execute_result"
    }
   ],
   "source": [
    "#Visualize\n",
    "plt.figure(figsize=(12,6))\n",
    "sns.countplot(y=prch_bvr['PREMIUM_CUSTOMER'],order=prch_bvr['PREMIUM_CUSTOMER'].value_counts().index)\n",
    "plt.xlabel(\"Number of Customers\")\n",
    "plt.ylabel(\"Premium Customers\")"
   ]
  },
  {
   "cell_type": "code",
   "execution_count": 52,
   "metadata": {
    "collapsed": false
   },
   "outputs": [
    {
     "data": {
      "text/html": [
       "<div>\n",
       "<style scoped>\n",
       "    .dataframe tbody tr th:only-of-type {\n",
       "        vertical-align: middle;\n",
       "    }\n",
       "\n",
       "    .dataframe tbody tr th {\n",
       "        vertical-align: top;\n",
       "    }\n",
       "\n",
       "    .dataframe thead th {\n",
       "        text-align: right;\n",
       "    }\n",
       "</style>\n",
       "<table border=\"1\" class=\"dataframe\">\n",
       "  <thead>\n",
       "    <tr style=\"text-align: right;\">\n",
       "      <th></th>\n",
       "      <th></th>\n",
       "      <th>Total Sales</th>\n",
       "    </tr>\n",
       "    <tr>\n",
       "      <th>LIFESTAGE</th>\n",
       "      <th>PREMIUM_CUSTOMER</th>\n",
       "      <th></th>\n",
       "    </tr>\n",
       "  </thead>\n",
       "  <tbody>\n",
       "    <tr>\n",
       "      <th rowspan=\"3\" valign=\"top\">NEW FAMILIES</th>\n",
       "      <th>Premium</th>\n",
       "      <td>11491.10</td>\n",
       "    </tr>\n",
       "    <tr>\n",
       "      <th>Mainstream</th>\n",
       "      <td>17013.90</td>\n",
       "    </tr>\n",
       "    <tr>\n",
       "      <th>Budget</th>\n",
       "      <td>21928.45</td>\n",
       "    </tr>\n",
       "    <tr>\n",
       "      <th>MIDAGE SINGLES/COUPLES</th>\n",
       "      <th>Budget</th>\n",
       "      <td>35514.80</td>\n",
       "    </tr>\n",
       "    <tr>\n",
       "      <th>YOUNG SINGLES/COUPLES</th>\n",
       "      <th>Premium</th>\n",
       "      <td>41642.10</td>\n",
       "    </tr>\n",
       "    <tr>\n",
       "      <th>MIDAGE SINGLES/COUPLES</th>\n",
       "      <th>Premium</th>\n",
       "      <td>58432.65</td>\n",
       "    </tr>\n",
       "    <tr>\n",
       "      <th>YOUNG SINGLES/COUPLES</th>\n",
       "      <th>Budget</th>\n",
       "      <td>61141.60</td>\n",
       "    </tr>\n",
       "    <tr>\n",
       "      <th>OLDER FAMILIES</th>\n",
       "      <th>Premium</th>\n",
       "      <td>80658.40</td>\n",
       "    </tr>\n",
       "    <tr>\n",
       "      <th>YOUNG FAMILIES</th>\n",
       "      <th>Premium</th>\n",
       "      <td>84025.50</td>\n",
       "    </tr>\n",
       "    <tr>\n",
       "      <th>MIDAGE SINGLES/COUPLES</th>\n",
       "      <th>Mainstream</th>\n",
       "      <td>90803.85</td>\n",
       "    </tr>\n",
       "    <tr>\n",
       "      <th>YOUNG FAMILIES</th>\n",
       "      <th>Mainstream</th>\n",
       "      <td>92788.75</td>\n",
       "    </tr>\n",
       "    <tr>\n",
       "      <th>RETIREES</th>\n",
       "      <th>Premium</th>\n",
       "      <td>97646.05</td>\n",
       "    </tr>\n",
       "    <tr>\n",
       "      <th>OLDER FAMILIES</th>\n",
       "      <th>Mainstream</th>\n",
       "      <td>103445.55</td>\n",
       "    </tr>\n",
       "    <tr>\n",
       "      <th>RETIREES</th>\n",
       "      <th>Budget</th>\n",
       "      <td>113147.80</td>\n",
       "    </tr>\n",
       "    <tr>\n",
       "      <th rowspan=\"3\" valign=\"top\">OLDER SINGLES/COUPLES</th>\n",
       "      <th>Premium</th>\n",
       "      <td>132263.15</td>\n",
       "    </tr>\n",
       "    <tr>\n",
       "      <th>Mainstream</th>\n",
       "      <td>133393.80</td>\n",
       "    </tr>\n",
       "    <tr>\n",
       "      <th>Budget</th>\n",
       "      <td>136769.80</td>\n",
       "    </tr>\n",
       "    <tr>\n",
       "      <th>YOUNG FAMILIES</th>\n",
       "      <th>Budget</th>\n",
       "      <td>139345.85</td>\n",
       "    </tr>\n",
       "    <tr>\n",
       "      <th>RETIREES</th>\n",
       "      <th>Mainstream</th>\n",
       "      <td>155677.05</td>\n",
       "    </tr>\n",
       "    <tr>\n",
       "      <th>YOUNG SINGLES/COUPLES</th>\n",
       "      <th>Mainstream</th>\n",
       "      <td>157621.60</td>\n",
       "    </tr>\n",
       "    <tr>\n",
       "      <th>OLDER FAMILIES</th>\n",
       "      <th>Budget</th>\n",
       "      <td>168363.25</td>\n",
       "    </tr>\n",
       "  </tbody>\n",
       "</table>\n",
       "</div>"
      ],
      "text/plain": [
       "                                         Total Sales\n",
       "LIFESTAGE              PREMIUM_CUSTOMER             \n",
       "NEW FAMILIES           Premium              11491.10\n",
       "                       Mainstream           17013.90\n",
       "                       Budget               21928.45\n",
       "MIDAGE SINGLES/COUPLES Budget               35514.80\n",
       "YOUNG SINGLES/COUPLES  Premium              41642.10\n",
       "MIDAGE SINGLES/COUPLES Premium              58432.65\n",
       "YOUNG SINGLES/COUPLES  Budget               61141.60\n",
       "OLDER FAMILIES         Premium              80658.40\n",
       "YOUNG FAMILIES         Premium              84025.50\n",
       "MIDAGE SINGLES/COUPLES Mainstream           90803.85\n",
       "YOUNG FAMILIES         Mainstream           92788.75\n",
       "RETIREES               Premium              97646.05\n",
       "OLDER FAMILIES         Mainstream          103445.55\n",
       "RETIREES               Budget              113147.80\n",
       "OLDER SINGLES/COUPLES  Premium             132263.15\n",
       "                       Mainstream          133393.80\n",
       "                       Budget              136769.80\n",
       "YOUNG FAMILIES         Budget              139345.85\n",
       "RETIREES               Mainstream          155677.05\n",
       "YOUNG SINGLES/COUPLES  Mainstream          157621.60\n",
       "OLDER FAMILIES         Budget              168363.25"
      ]
     },
     "execution_count": 52,
     "metadata": {
     },
     "output_type": "execute_result"
    }
   ],
   "source": [
    "#Total sales of customer byPREMIUM_CUSTOMER , LIFESTAGE\n",
    "sales=pd.DataFrame(merged_data.groupby(['LIFESTAGE','PREMIUM_CUSTOMER']).TOT_SALES.sum())\n",
    "sales.rename(columns = {'TOT_SALES': 'Total Sales'}, inplace= True)\n",
    "sales.sort_values(by='Total Sales',ascending=True,inplace=True)\n",
    "sales"
   ]
  },
  {
   "cell_type": "code",
   "execution_count": 53,
   "metadata": {
    "collapsed": false
   },
   "outputs": [
    {
     "data": {
      "text/plain": [
       "<matplotlib.legend.Legend at 0x7f7ae200d5e0>"
      ]
     },
     "execution_count": 53,
     "metadata": {
     },
     "output_type": "execute_result"
    },
    {
     "data": {
      "image/png": "[encoded data removed]",
      "text/plain": [
       "<Figure size 864x432 with 1 Axes>"
      ]
     },
     "execution_count": 53,
     "metadata": {
      "image/png": {
       "height": 512,
       "width": 743
      },
      "needs_background": "light"
     },
     "output_type": "execute_result"
    }
   ],
   "source": [
    "#Visualize\n",
    "salesplot=pd.DataFrame(merged_data.groupby(['LIFESTAGE','PREMIUM_CUSTOMER']).TOT_SALES.sum())\n",
    "salesplot.unstack().plot(kind='bar',stacked=True,figsize=(12,6),title='Total Sales by Customer Segment')\n",
    "plt.ylabel('Total Sales')\n",
    "plt.legend(['Budget','Mainstream','Premium'],loc=2)"
   ]
  },
  {
   "cell_type": "markdown",
   "metadata": {
    "collapsed": false
   },
   "source": [
    "**The top 3 total sales contributor segment are (in order):**<br>\n",
    "1.Older Families(Budget)<br>\n",
    "2.Young Singles/Couples (Mainstream)<br>\n",
    "3.Retirees (Mainstream)<br>"
   ]
  },
  {
   "cell_type": "code",
   "execution_count": 54,
   "metadata": {
    "collapsed": false
   },
   "outputs": [
    {
     "data": {
      "text/html": [
       "<div>\n",
       "<style scoped>\n",
       "    .dataframe tbody tr th:only-of-type {\n",
       "        vertical-align: middle;\n",
       "    }\n",
       "\n",
       "    .dataframe tbody tr th {\n",
       "        vertical-align: top;\n",
       "    }\n",
       "\n",
       "    .dataframe thead th {\n",
       "        text-align: right;\n",
       "    }\n",
       "</style>\n",
       "<table border=\"1\" class=\"dataframe\">\n",
       "  <thead>\n",
       "    <tr style=\"text-align: right;\">\n",
       "      <th></th>\n",
       "      <th></th>\n",
       "      <th>Number of Customers</th>\n",
       "    </tr>\n",
       "    <tr>\n",
       "      <th>LIFESTAGE</th>\n",
       "      <th>PREMIUM_CUSTOMER</th>\n",
       "      <th></th>\n",
       "    </tr>\n",
       "  </thead>\n",
       "  <tbody>\n",
       "    <tr>\n",
       "      <th>YOUNG SINGLES/COUPLES</th>\n",
       "      <th>Mainstream</th>\n",
       "      <td>8088</td>\n",
       "    </tr>\n",
       "    <tr>\n",
       "      <th>RETIREES</th>\n",
       "      <th>Mainstream</th>\n",
       "      <td>6479</td>\n",
       "    </tr>\n",
       "    <tr>\n",
       "      <th rowspan=\"3\" valign=\"top\">OLDER SINGLES/COUPLES</th>\n",
       "      <th>Mainstream</th>\n",
       "      <td>4930</td>\n",
       "    </tr>\n",
       "    <tr>\n",
       "      <th>Budget</th>\n",
       "      <td>4929</td>\n",
       "    </tr>\n",
       "    <tr>\n",
       "      <th>Premium</th>\n",
       "      <td>4750</td>\n",
       "    </tr>\n",
       "    <tr>\n",
       "      <th>OLDER FAMILIES</th>\n",
       "      <th>Budget</th>\n",
       "      <td>4675</td>\n",
       "    </tr>\n",
       "    <tr>\n",
       "      <th>RETIREES</th>\n",
       "      <th>Budget</th>\n",
       "      <td>4454</td>\n",
       "    </tr>\n",
       "    <tr>\n",
       "      <th>YOUNG FAMILIES</th>\n",
       "      <th>Budget</th>\n",
       "      <td>4017</td>\n",
       "    </tr>\n",
       "    <tr>\n",
       "      <th>RETIREES</th>\n",
       "      <th>Premium</th>\n",
       "      <td>3872</td>\n",
       "    </tr>\n",
       "    <tr>\n",
       "      <th>YOUNG SINGLES/COUPLES</th>\n",
       "      <th>Budget</th>\n",
       "      <td>3779</td>\n",
       "    </tr>\n",
       "    <tr>\n",
       "      <th>MIDAGE SINGLES/COUPLES</th>\n",
       "      <th>Mainstream</th>\n",
       "      <td>3340</td>\n",
       "    </tr>\n",
       "    <tr>\n",
       "      <th>OLDER FAMILIES</th>\n",
       "      <th>Mainstream</th>\n",
       "      <td>2831</td>\n",
       "    </tr>\n",
       "    <tr>\n",
       "      <th>YOUNG FAMILIES</th>\n",
       "      <th>Mainstream</th>\n",
       "      <td>2728</td>\n",
       "    </tr>\n",
       "    <tr>\n",
       "      <th>YOUNG SINGLES/COUPLES</th>\n",
       "      <th>Premium</th>\n",
       "      <td>2574</td>\n",
       "    </tr>\n",
       "    <tr>\n",
       "      <th>YOUNG FAMILIES</th>\n",
       "      <th>Premium</th>\n",
       "      <td>2433</td>\n",
       "    </tr>\n",
       "    <tr>\n",
       "      <th>MIDAGE SINGLES/COUPLES</th>\n",
       "      <th>Premium</th>\n",
       "      <td>2431</td>\n",
       "    </tr>\n",
       "    <tr>\n",
       "      <th>OLDER FAMILIES</th>\n",
       "      <th>Premium</th>\n",
       "      <td>2273</td>\n",
       "    </tr>\n",
       "    <tr>\n",
       "      <th>MIDAGE SINGLES/COUPLES</th>\n",
       "      <th>Budget</th>\n",
       "      <td>1504</td>\n",
       "    </tr>\n",
       "    <tr>\n",
       "      <th rowspan=\"3\" valign=\"top\">NEW FAMILIES</th>\n",
       "      <th>Budget</th>\n",
       "      <td>1112</td>\n",
       "    </tr>\n",
       "    <tr>\n",
       "      <th>Mainstream</th>\n",
       "      <td>849</td>\n",
       "    </tr>\n",
       "    <tr>\n",
       "      <th>Premium</th>\n",
       "      <td>588</td>\n",
       "    </tr>\n",
       "  </tbody>\n",
       "</table>\n",
       "</div>"
      ],
      "text/plain": [
       "                                         Number of Customers\n",
       "LIFESTAGE              PREMIUM_CUSTOMER                     \n",
       "YOUNG SINGLES/COUPLES  Mainstream                       8088\n",
       "RETIREES               Mainstream                       6479\n",
       "OLDER SINGLES/COUPLES  Mainstream                       4930\n",
       "                       Budget                           4929\n",
       "                       Premium                          4750\n",
       "OLDER FAMILIES         Budget                           4675\n",
       "RETIREES               Budget                           4454\n",
       "YOUNG FAMILIES         Budget                           4017\n",
       "RETIREES               Premium                          3872\n",
       "YOUNG SINGLES/COUPLES  Budget                           3779\n",
       "MIDAGE SINGLES/COUPLES Mainstream                       3340\n",
       "OLDER FAMILIES         Mainstream                       2831\n",
       "YOUNG FAMILIES         Mainstream                       2728\n",
       "YOUNG SINGLES/COUPLES  Premium                          2574\n",
       "YOUNG FAMILIES         Premium                          2433\n",
       "MIDAGE SINGLES/COUPLES Premium                          2431\n",
       "OLDER FAMILIES         Premium                          2273\n",
       "MIDAGE SINGLES/COUPLES Budget                           1504\n",
       "NEW FAMILIES           Budget                           1112\n",
       "                       Mainstream                        849\n",
       "                       Premium                           588"
      ]
     },
     "execution_count": 54,
     "metadata": {
     },
     "output_type": "execute_result"
    }
   ],
   "source": [
    "#Number of Customers by PREMIUM_CUSTOMER, LIFESTAGE\n",
    "cust=pd.DataFrame(merged_data.groupby(['LIFESTAGE','PREMIUM_CUSTOMER']).LYLTY_CARD_NBR.nunique())\n",
    "cust.rename(columns={'LYLTY_CARD_NBR': 'Number of Customers'}, inplace=True)\n",
    "cust.sort_values(by='Number of Customers',ascending=False,inplace=True)\n",
    "cust"
   ]
  },
  {
   "cell_type": "code",
   "execution_count": 55,
   "metadata": {
    "collapsed": false
   },
   "outputs": [
    {
     "data": {
      "text/plain": [
       "<matplotlib.legend.Legend at 0x7f7aef0fe9d0>"
      ]
     },
     "execution_count": 55,
     "metadata": {
     },
     "output_type": "execute_result"
    },
    {
     "data": {
      "image/png": "[encoded data removed]",
      "text/plain": [
       "<Figure size 864x432 with 1 Axes>"
      ]
     },
     "execution_count": 55,
     "metadata": {
      "image/png": {
       "height": 512,
       "width": 736
      },
      "needs_background": "light"
     },
     "output_type": "execute_result"
    }
   ],
   "source": [
    "#Visualize\n",
    "custplot=pd.DataFrame(merged_data.groupby(['LIFESTAGE','PREMIUM_CUSTOMER']).LYLTY_CARD_NBR.nunique())\n",
    "custplot.unstack().plot(kind='bar',stacked=True,figsize=(12,6),title='Number of Customer by Customer Segment')\n",
    "plt.ylabel('Number of Customers')\n",
    "plt.legend(['Budget','Mainstream','Premium'],loc=2)"
   ]
  },
  {
   "cell_type": "markdown",
   "metadata": {
    "collapsed": false
   },
   "source": [
    "**There are more  younger couples/singles(Mainstream) and Retires(Mainstream). These two segments contributes to more chips sales. However, this is not the major driver for the older families(Budget) due to low number of unique Customers.**"
   ]
  },
  {
   "cell_type": "code",
   "execution_count": 56,
   "metadata": {
    "collapsed": false
   },
   "outputs": [
    {
     "data": {
      "text/plain": [
       "PREMIUM_CUSTOMER  LIFESTAGE             \n",
       "Budget            MIDAGE SINGLES/COUPLES    6.313830\n",
       "                  NEW FAMILIES              5.009892\n",
       "                  OLDER FAMILIES            9.639572\n",
       "                  OLDER SINGLES/COUPLES     7.145466\n",
       "                  RETIREES                  6.458015\n",
       "                  YOUNG FAMILIES            9.238486\n",
       "                  YOUNG SINGLES/COUPLES     4.411485\n",
       "Mainstream        MIDAGE SINGLES/COUPLES    6.796108\n",
       "                  NEW FAMILIES              5.087161\n",
       "                  OLDER FAMILIES            9.804309\n",
       "                  OLDER SINGLES/COUPLES     7.098783\n",
       "                  RETIREES                  6.253743\n",
       "                  YOUNG FAMILIES            9.180352\n",
       "                  YOUNG SINGLES/COUPLES     4.776459\n",
       "Premium           MIDAGE SINGLES/COUPLES    6.386672\n",
       "                  NEW FAMILIES              5.028912\n",
       "                  OLDER FAMILIES            9.578091\n",
       "                  OLDER SINGLES/COUPLES     7.154947\n",
       "                  RETIREES                  6.426653\n",
       "                  YOUNG FAMILIES            9.209207\n",
       "                  YOUNG SINGLES/COUPLES     4.402098\n",
       "dtype: float64"
      ]
     },
     "execution_count": 56,
     "metadata": {
     },
     "output_type": "execute_result"
    }
   ],
   "source": [
    "# Average Units per customer by PREMIUM_CUSTOMER, LIFESTAGE\n",
    "avg_units=merged_data.groupby(['PREMIUM_CUSTOMER', 'LIFESTAGE']).PROD_QTY.sum() / merged_data.groupby(['PREMIUM_CUSTOMER', 'LIFESTAGE']).LYLTY_CARD_NBR.nunique()\n",
    "avg_units"
   ]
  },
  {
   "cell_type": "code",
   "execution_count": 57,
   "metadata": {
    "collapsed": false
   },
   "outputs": [
    {
     "data": {
      "text/plain": [
       "<matplotlib.legend.Legend at 0x7f7ae200d340>"
      ]
     },
     "execution_count": 57,
     "metadata": {
     },
     "output_type": "execute_result"
    },
    {
     "data": {
      "image/png": "[encoded data removed]",
      "text/plain": [
       "<Figure size 864x504 with 1 Axes>"
      ]
     },
     "execution_count": 57,
     "metadata": {
      "image/png": {
       "height": 566,
       "width": 717
      },
      "needs_background": "light"
     },
     "output_type": "execute_result"
    }
   ],
   "source": [
    "#isualize\n",
    "avgUnitsPlot = pd.DataFrame(merged_data.groupby(['LIFESTAGE', 'PREMIUM_CUSTOMER']).PROD_QTY.sum() / merged_data.groupby(['LIFESTAGE', 'PREMIUM_CUSTOMER']).LYLTY_CARD_NBR.nunique())\n",
    "avgUnitsPlot.unstack().plot(kind = 'bar', figsize = (12, 7), title = 'Average Unit by Customer Segment')\n",
    "plt.ylabel('Average Number of Units')\n",
    "plt.legend(['Budget', 'Mainstream', 'Premium'], loc = 2)"
   ]
  },
  {
   "cell_type": "markdown",
   "metadata": {
    "collapsed": false
   },
   "source": [
    "**From the Graph output, we observed older Families and Young Families buy more chips per customer.**"
   ]
  },
  {
   "cell_type": "code",
   "execution_count": 58,
   "metadata": {
    "collapsed": false
   },
   "outputs": [
    {
     "data": {
      "text/plain": [
       "PREMIUM_CUSTOMER  LIFESTAGE             \n",
       "Budget            MIDAGE SINGLES/COUPLES    3.739975\n",
       "                  NEW FAMILIES              3.936178\n",
       "                  OLDER FAMILIES            3.736009\n",
       "                  OLDER SINGLES/COUPLES     3.883299\n",
       "                  RETIREES                  3.933660\n",
       "                  YOUNG FAMILIES            3.754840\n",
       "                  YOUNG SINGLES/COUPLES     3.667542\n",
       "Mainstream        MIDAGE SINGLES/COUPLES    4.000346\n",
       "                  NEW FAMILIES              3.939315\n",
       "                  OLDER FAMILIES            3.726962\n",
       "                  OLDER SINGLES/COUPLES     3.811578\n",
       "                  RETIREES                  3.842170\n",
       "                  YOUNG FAMILIES            3.705029\n",
       "                  YOUNG SINGLES/COUPLES     4.080079\n",
       "Premium           MIDAGE SINGLES/COUPLES    3.763535\n",
       "                  NEW FAMILIES              3.886067\n",
       "                  OLDER FAMILIES            3.704855\n",
       "                  OLDER SINGLES/COUPLES     3.891695\n",
       "                  RETIREES                  3.924050\n",
       "                  YOUNG FAMILIES            3.750134\n",
       "                  YOUNG SINGLES/COUPLES     3.675060\n",
       "dtype: float64"
      ]
     },
     "execution_count": 58,
     "metadata": {
     },
     "output_type": "execute_result"
    }
   ],
   "source": [
    "#Average price per customer byPREMIUM_CUSTOMER , LIFESTAGE\n",
    "avg_price = merged_data.groupby(['PREMIUM_CUSTOMER', 'LIFESTAGE']).TOT_SALES.sum() / merged_data.groupby(['PREMIUM_CUSTOMER', 'LIFESTAGE']).PROD_QTY.sum()\n",
    "avg_price"
   ]
  },
  {
   "cell_type": "code",
   "execution_count": 59,
   "metadata": {
    "collapsed": false
   },
   "outputs": [
    {
     "data": {
      "text/plain": [
       "<matplotlib.legend.Legend at 0x7f7aef72d760>"
      ]
     },
     "execution_count": 59,
     "metadata": {
     },
     "output_type": "execute_result"
    },
    {
     "data": {
      "image/png": "[encoded data removed]",
      "text/plain": [
       "<Figure size 864x432 with 1 Axes>"
      ]
     },
     "execution_count": 59,
     "metadata": {
      "image/png": {
       "height": 512,
       "width": 710
      },
      "needs_background": "light"
     },
     "output_type": "execute_result"
    }
   ],
   "source": [
    "#Visualize\n",
    "avg_priceplot=pd.DataFrame(merged_data.groupby(['LIFESTAGE','PREMIUM_CUSTOMER']).TOT_SALES.sum()/merged_data.groupby(['LIFESTAGE','PREMIUM_CUSTOMER']).PROD_QTY.sum())\n",
    "avg_priceplot.unstack().plot(kind='bar',figsize=(12,6),title='Average prices by Customer segment',ylim = (0, 6))\n",
    "plt.ylabel('Average price')\n",
    "plt.legend(['Budget','Mainstream','Premium'],loc=2)"
   ]
  },
  {
   "cell_type": "markdown",
   "metadata": {
    "collapsed": false
   },
   "source": [
    "**Midage singles/couples(Mainstream) and young singles/couples(Mainstream) are paying more per packets then other 2 premium customer Budgets & Premium. This may be due to premium shoppers being more likely to buy healthy snacks and where chips are mostly used for entertainment purpose.**"
   ]
  },
  {
   "cell_type": "code",
   "execution_count": 60,
   "metadata": {
    "collapsed": false
   },
   "outputs": [
    {
     "data": {
      "text/html": [
       "<div>\n",
       "<style scoped>\n",
       "    .dataframe tbody tr th:only-of-type {\n",
       "        vertical-align: middle;\n",
       "    }\n",
       "\n",
       "    .dataframe tbody tr th {\n",
       "        vertical-align: top;\n",
       "    }\n",
       "\n",
       "    .dataframe thead th {\n",
       "        text-align: right;\n",
       "    }\n",
       "</style>\n",
       "<table border=\"1\" class=\"dataframe\">\n",
       "  <thead>\n",
       "    <tr style=\"text-align: right;\">\n",
       "      <th></th>\n",
       "      <th>DATE</th>\n",
       "      <th>STORE_NBR</th>\n",
       "      <th>LYLTY_CARD_NBR</th>\n",
       "      <th>TXN_ID</th>\n",
       "      <th>PROD_NBR</th>\n",
       "      <th>PROD_NAME</th>\n",
       "      <th>PROD_QTY</th>\n",
       "      <th>TOT_SALES</th>\n",
       "      <th>LIFESTAGE</th>\n",
       "      <th>PREMIUM_CUSTOMER</th>\n",
       "      <th>PACK_SIZE</th>\n",
       "      <th>Cleaned_Brand_Names</th>\n",
       "      <th>PRICE</th>\n",
       "    </tr>\n",
       "  </thead>\n",
       "  <tbody>\n",
       "    <tr>\n",
       "      <th>0</th>\n",
       "      <td>2018-10-17</td>\n",
       "      <td>1</td>\n",
       "      <td>1000</td>\n",
       "      <td>1</td>\n",
       "      <td>5</td>\n",
       "      <td>Natural Chip        Compny SeaSalt175g</td>\n",
       "      <td>2</td>\n",
       "      <td>6.0</td>\n",
       "      <td>YOUNG SINGLES/COUPLES</td>\n",
       "      <td>Premium</td>\n",
       "      <td>175</td>\n",
       "      <td>Natural chip co</td>\n",
       "      <td>3.0</td>\n",
       "    </tr>\n",
       "    <tr>\n",
       "      <th>1</th>\n",
       "      <td>2018-09-16</td>\n",
       "      <td>1</td>\n",
       "      <td>1002</td>\n",
       "      <td>2</td>\n",
       "      <td>58</td>\n",
       "      <td>Red Rock Deli Chikn&amp;Garlic Aioli 150g</td>\n",
       "      <td>1</td>\n",
       "      <td>2.7</td>\n",
       "      <td>YOUNG SINGLES/COUPLES</td>\n",
       "      <td>Mainstream</td>\n",
       "      <td>150</td>\n",
       "      <td>RRD</td>\n",
       "      <td>2.7</td>\n",
       "    </tr>\n",
       "    <tr>\n",
       "      <th>2</th>\n",
       "      <td>2019-03-07</td>\n",
       "      <td>1</td>\n",
       "      <td>1003</td>\n",
       "      <td>3</td>\n",
       "      <td>52</td>\n",
       "      <td>Grain Waves Sour    Cream&amp;Chives 210G</td>\n",
       "      <td>1</td>\n",
       "      <td>3.6</td>\n",
       "      <td>YOUNG FAMILIES</td>\n",
       "      <td>Budget</td>\n",
       "      <td>210</td>\n",
       "      <td>Grain Waves</td>\n",
       "      <td>3.6</td>\n",
       "    </tr>\n",
       "    <tr>\n",
       "      <th>3</th>\n",
       "      <td>2019-03-08</td>\n",
       "      <td>1</td>\n",
       "      <td>1003</td>\n",
       "      <td>4</td>\n",
       "      <td>106</td>\n",
       "      <td>Natural ChipCo      Hony Soy Chckn175g</td>\n",
       "      <td>1</td>\n",
       "      <td>3.0</td>\n",
       "      <td>YOUNG FAMILIES</td>\n",
       "      <td>Budget</td>\n",
       "      <td>175</td>\n",
       "      <td>Natural chip co</td>\n",
       "      <td>3.0</td>\n",
       "    </tr>\n",
       "    <tr>\n",
       "      <th>4</th>\n",
       "      <td>2018-11-02</td>\n",
       "      <td>1</td>\n",
       "      <td>1004</td>\n",
       "      <td>5</td>\n",
       "      <td>96</td>\n",
       "      <td>WW Original Stacked Chips 160g</td>\n",
       "      <td>1</td>\n",
       "      <td>1.9</td>\n",
       "      <td>OLDER SINGLES/COUPLES</td>\n",
       "      <td>Mainstream</td>\n",
       "      <td>160</td>\n",
       "      <td>Woolworths</td>\n",
       "      <td>1.9</td>\n",
       "    </tr>\n",
       "    <tr>\n",
       "      <th>...</th>\n",
       "      <td>...</td>\n",
       "      <td>...</td>\n",
       "      <td>...</td>\n",
       "      <td>...</td>\n",
       "      <td>...</td>\n",
       "      <td>...</td>\n",
       "      <td>...</td>\n",
       "      <td>...</td>\n",
       "      <td>...</td>\n",
       "      <td>...</td>\n",
       "      <td>...</td>\n",
       "      <td>...</td>\n",
       "      <td>...</td>\n",
       "    </tr>\n",
       "    <tr>\n",
       "      <th>264831</th>\n",
       "      <td>2018-12-08</td>\n",
       "      <td>88</td>\n",
       "      <td>2370701</td>\n",
       "      <td>240378</td>\n",
       "      <td>24</td>\n",
       "      <td>Grain Waves         Sweet Chilli 210g</td>\n",
       "      <td>2</td>\n",
       "      <td>7.2</td>\n",
       "      <td>YOUNG FAMILIES</td>\n",
       "      <td>Mainstream</td>\n",
       "      <td>210</td>\n",
       "      <td>Grain Waves</td>\n",
       "      <td>3.6</td>\n",
       "    </tr>\n",
       "    <tr>\n",
       "      <th>264832</th>\n",
       "      <td>2018-10-01</td>\n",
       "      <td>88</td>\n",
       "      <td>2370751</td>\n",
       "      <td>240394</td>\n",
       "      <td>60</td>\n",
       "      <td>Kettle Tortilla ChpsFeta&amp;Garlic 150g</td>\n",
       "      <td>2</td>\n",
       "      <td>9.2</td>\n",
       "      <td>YOUNG FAMILIES</td>\n",
       "      <td>Premium</td>\n",
       "      <td>150</td>\n",
       "      <td>Kettle</td>\n",
       "      <td>4.6</td>\n",
       "    </tr>\n",
       "    <tr>\n",
       "      <th>264833</th>\n",
       "      <td>2018-10-24</td>\n",
       "      <td>88</td>\n",
       "      <td>2370961</td>\n",
       "      <td>240480</td>\n",
       "      <td>70</td>\n",
       "      <td>Tyrrells Crisps     Lightly Salted 165g</td>\n",
       "      <td>2</td>\n",
       "      <td>8.4</td>\n",
       "      <td>OLDER FAMILIES</td>\n",
       "      <td>Budget</td>\n",
       "      <td>165</td>\n",
       "      <td>Tyrrells</td>\n",
       "      <td>4.2</td>\n",
       "    </tr>\n",
       "    <tr>\n",
       "      <th>264834</th>\n",
       "      <td>2018-10-27</td>\n",
       "      <td>88</td>\n",
       "      <td>2370961</td>\n",
       "      <td>240481</td>\n",
       "      <td>65</td>\n",
       "      <td>Old El Paso Salsa   Dip Chnky Tom Ht300g</td>\n",
       "      <td>2</td>\n",
       "      <td>10.2</td>\n",
       "      <td>OLDER FAMILIES</td>\n",
       "      <td>Budget</td>\n",
       "      <td>300</td>\n",
       "      <td>Old</td>\n",
       "      <td>5.1</td>\n",
       "    </tr>\n",
       "    <tr>\n",
       "      <th>264835</th>\n",
       "      <td>2018-12-14</td>\n",
       "      <td>88</td>\n",
       "      <td>2373711</td>\n",
       "      <td>241815</td>\n",
       "      <td>16</td>\n",
       "      <td>Smiths Crinkle Chips Salt &amp; Vinegar 330g</td>\n",
       "      <td>2</td>\n",
       "      <td>11.4</td>\n",
       "      <td>YOUNG SINGLES/COUPLES</td>\n",
       "      <td>Mainstream</td>\n",
       "      <td>330</td>\n",
       "      <td>Smiths</td>\n",
       "      <td>5.7</td>\n",
       "    </tr>\n",
       "  </tbody>\n",
       "</table>\n",
       "<p>264834 rows × 13 columns</p>\n",
       "</div>"
      ],
      "text/plain": [
       "             DATE  STORE_NBR  LYLTY_CARD_NBR  TXN_ID  PROD_NBR  \\\n",
       "0      2018-10-17          1            1000       1         5   \n",
       "1      2018-09-16          1            1002       2        58   \n",
       "2      2019-03-07          1            1003       3        52   \n",
       "3      2019-03-08          1            1003       4       106   \n",
       "4      2018-11-02          1            1004       5        96   \n",
       "...           ...        ...             ...     ...       ...   \n",
       "264831 2018-12-08         88         2370701  240378        24   \n",
       "264832 2018-10-01         88         2370751  240394        60   \n",
       "264833 2018-10-24         88         2370961  240480        70   \n",
       "264834 2018-10-27         88         2370961  240481        65   \n",
       "264835 2018-12-14         88         2373711  241815        16   \n",
       "\n",
       "                                       PROD_NAME  PROD_QTY  TOT_SALES  \\\n",
       "0         Natural Chip        Compny SeaSalt175g         2        6.0   \n",
       "1          Red Rock Deli Chikn&Garlic Aioli 150g         1        2.7   \n",
       "2          Grain Waves Sour    Cream&Chives 210G         1        3.6   \n",
       "3         Natural ChipCo      Hony Soy Chckn175g         1        3.0   \n",
       "4                 WW Original Stacked Chips 160g         1        1.9   \n",
       "...                                          ...       ...        ...   \n",
       "264831     Grain Waves         Sweet Chilli 210g         2        7.2   \n",
       "264832      Kettle Tortilla ChpsFeta&Garlic 150g         2        9.2   \n",
       "264833   Tyrrells Crisps     Lightly Salted 165g         2        8.4   \n",
       "264834  Old El Paso Salsa   Dip Chnky Tom Ht300g         2       10.2   \n",
       "264835  Smiths Crinkle Chips Salt & Vinegar 330g         2       11.4   \n",
       "\n",
       "                    LIFESTAGE PREMIUM_CUSTOMER  PACK_SIZE Cleaned_Brand_Names  \\\n",
       "0       YOUNG SINGLES/COUPLES          Premium        175     Natural chip co   \n",
       "1       YOUNG SINGLES/COUPLES       Mainstream        150                 RRD   \n",
       "2              YOUNG FAMILIES           Budget        210         Grain Waves   \n",
       "3              YOUNG FAMILIES           Budget        175     Natural chip co   \n",
       "4       OLDER SINGLES/COUPLES       Mainstream        160          Woolworths   \n",
       "...                       ...              ...        ...                 ...   \n",
       "264831         YOUNG FAMILIES       Mainstream        210         Grain Waves   \n",
       "264832         YOUNG FAMILIES          Premium        150              Kettle   \n",
       "264833         OLDER FAMILIES           Budget        165            Tyrrells   \n",
       "264834         OLDER FAMILIES           Budget        300                 Old   \n",
       "264835  YOUNG SINGLES/COUPLES       Mainstream        330              Smiths   \n",
       "\n",
       "        PRICE  \n",
       "0         3.0  \n",
       "1         2.7  \n",
       "2         3.6  \n",
       "3         3.0  \n",
       "4         1.9  \n",
       "...       ...  \n",
       "264831    3.6  \n",
       "264832    4.6  \n",
       "264833    4.2  \n",
       "264834    5.1  \n",
       "264835    5.7  \n",
       "\n",
       "[264834 rows x 13 columns]"
      ]
     },
     "execution_count": 60,
     "metadata": {
     },
     "output_type": "execute_result"
    }
   ],
   "source": [
    "PricePerUnit=merged_data\n",
    "PricePerUnit['PRICE']=merged_data['TOT_SALES']/merged_data['PROD_QTY']\n",
    "PricePerUnit"
   ]
  },
  {
   "cell_type": "code",
   "execution_count": 61,
   "metadata": {
    "collapsed": false
   },
   "outputs": [
   ],
   "source": [
    "#Grouping our Data into mainstream and nonmainstream\n",
    "mainstream = PricePerUnit.loc[(PricePerUnit['PREMIUM_CUSTOMER'] == 'Mainstream') & ( (PricePerUnit['LIFESTAGE'] == 'YOUNG SINGLES/COUPLES') | (PricePerUnit['LIFESTAGE'] == 'MIDAGE SINGLES/COUPLES') ), 'PRICE']\n",
    "nonmainstream = PricePerUnit.loc[(PricePerUnit['PREMIUM_CUSTOMER'] != 'Mainstream') & ( (PricePerUnit['LIFESTAGE'] == 'YOUNG SINGLES/COUPLES') | (PricePerUnit['LIFESTAGE'] == 'MIDAGE SINGLES/COUPLES') ), 'PRICE']"
   ]
  },
  {
   "cell_type": "code",
   "execution_count": 62,
   "metadata": {
    "collapsed": false
   },
   "outputs": [
    {
     "data": {
      "text/plain": [
       "Text(0.5, 0, 'Price Per Unit')"
      ]
     },
     "execution_count": 62,
     "metadata": {
     },
     "output_type": "execute_result"
    },
    {
     "data": {
      "image/png": "[encoded data removed]",
      "text/plain": [
       "<Figure size 864x432 with 1 Axes>"
      ]
     },
     "execution_count": 62,
     "metadata": {
      "image/png": {
       "height": 370,
       "width": 716
      },
      "needs_background": "light"
     },
     "output_type": "execute_result"
    }
   ],
   "source": [
    "plt.figure(figsize=(12,6))\n",
    "plt.hist(mainstream,label='Mainstream')\n",
    "plt.hist(nonmainstream,label='Budget&Premium')\n",
    "plt.legend()\n",
    "plt.xlabel('Price Per Unit')"
   ]
  },
  {
   "cell_type": "code",
   "execution_count": 63,
   "metadata": {
    "collapsed": false
   },
   "outputs": [
    {
     "name": "stdout",
     "output_type": "stream",
     "text": [
      "Mainstream Average price per unit is:$4.05\n",
      "Non-Mainstream Average price per unit is :$3.69\n",
      "Mainstream customers have higher average price per unit\n"
     ]
    }
   ],
   "source": [
    "print(\"Mainstream Average price per unit is:${:.2f}\".format(np.mean(mainstream)))\n",
    "print(\"Non-Mainstream Average price per unit is :${:.2f}\".format(np.mean(nonmainstream)))\n",
    "if(np.mean(mainstream)>np.mean(nonmainstream)):\n",
    "    print(\"Mainstream customers have higher average price per unit\")\n",
    "else:\n",
    "    print(\"Non-mainstream customers have higher average price per unit\")"
   ]
  },
  {
   "cell_type": "markdown",
   "metadata": {
    "collapsed": false
   },
   "source": [
    "**Mainstream customers have higher average price per unit than other non-mainstream customers like Budget and premium customers**"
   ]
  },
  {
   "cell_type": "code",
   "execution_count": 64,
   "metadata": {
    "collapsed": false
   },
   "outputs": [
    {
     "data": {
      "text/html": [
       "<div>\n",
       "<style scoped>\n",
       "    .dataframe tbody tr th:only-of-type {\n",
       "        vertical-align: middle;\n",
       "    }\n",
       "\n",
       "    .dataframe tbody tr th {\n",
       "        vertical-align: top;\n",
       "    }\n",
       "\n",
       "    .dataframe thead th {\n",
       "        text-align: right;\n",
       "    }\n",
       "</style>\n",
       "<table border=\"1\" class=\"dataframe\">\n",
       "  <thead>\n",
       "    <tr style=\"text-align: right;\">\n",
       "      <th></th>\n",
       "      <th>DATE</th>\n",
       "      <th>STORE_NBR</th>\n",
       "      <th>LYLTY_CARD_NBR</th>\n",
       "      <th>TXN_ID</th>\n",
       "      <th>PROD_NBR</th>\n",
       "      <th>PROD_NAME</th>\n",
       "      <th>PROD_QTY</th>\n",
       "      <th>TOT_SALES</th>\n",
       "      <th>LIFESTAGE</th>\n",
       "      <th>PREMIUM_CUSTOMER</th>\n",
       "      <th>PACK_SIZE</th>\n",
       "      <th>Cleaned_Brand_Names</th>\n",
       "      <th>PRICE</th>\n",
       "    </tr>\n",
       "  </thead>\n",
       "  <tbody>\n",
       "    <tr>\n",
       "      <th>1</th>\n",
       "      <td>2018-09-16</td>\n",
       "      <td>1</td>\n",
       "      <td>1002</td>\n",
       "      <td>2</td>\n",
       "      <td>58</td>\n",
       "      <td>Red Rock Deli Chikn&amp;Garlic Aioli 150g</td>\n",
       "      <td>1</td>\n",
       "      <td>2.7</td>\n",
       "      <td>YOUNG SINGLES/COUPLES</td>\n",
       "      <td>Mainstream</td>\n",
       "      <td>150</td>\n",
       "      <td>RRD</td>\n",
       "      <td>2.7</td>\n",
       "    </tr>\n",
       "    <tr>\n",
       "      <th>9</th>\n",
       "      <td>2018-09-09</td>\n",
       "      <td>1</td>\n",
       "      <td>1010</td>\n",
       "      <td>10</td>\n",
       "      <td>51</td>\n",
       "      <td>Doritos Mexicana    170g</td>\n",
       "      <td>2</td>\n",
       "      <td>8.8</td>\n",
       "      <td>YOUNG SINGLES/COUPLES</td>\n",
       "      <td>Mainstream</td>\n",
       "      <td>170</td>\n",
       "      <td>Doritos</td>\n",
       "      <td>4.4</td>\n",
       "    </tr>\n",
       "    <tr>\n",
       "      <th>10</th>\n",
       "      <td>2018-12-14</td>\n",
       "      <td>1</td>\n",
       "      <td>1010</td>\n",
       "      <td>11</td>\n",
       "      <td>59</td>\n",
       "      <td>Old El Paso Salsa   Dip Tomato Med 300g</td>\n",
       "      <td>1</td>\n",
       "      <td>5.1</td>\n",
       "      <td>YOUNG SINGLES/COUPLES</td>\n",
       "      <td>Mainstream</td>\n",
       "      <td>300</td>\n",
       "      <td>Old</td>\n",
       "      <td>5.1</td>\n",
       "    </tr>\n",
       "    <tr>\n",
       "      <th>21</th>\n",
       "      <td>2018-09-03</td>\n",
       "      <td>1</td>\n",
       "      <td>1018</td>\n",
       "      <td>22</td>\n",
       "      <td>3</td>\n",
       "      <td>Kettle Sensations   Camembert &amp; Fig 150g</td>\n",
       "      <td>1</td>\n",
       "      <td>4.6</td>\n",
       "      <td>YOUNG SINGLES/COUPLES</td>\n",
       "      <td>Mainstream</td>\n",
       "      <td>150</td>\n",
       "      <td>Kettle</td>\n",
       "      <td>4.6</td>\n",
       "    </tr>\n",
       "    <tr>\n",
       "      <th>22</th>\n",
       "      <td>2018-11-28</td>\n",
       "      <td>1</td>\n",
       "      <td>1018</td>\n",
       "      <td>23</td>\n",
       "      <td>97</td>\n",
       "      <td>RRD Salt &amp; Vinegar  165g</td>\n",
       "      <td>1</td>\n",
       "      <td>3.0</td>\n",
       "      <td>YOUNG SINGLES/COUPLES</td>\n",
       "      <td>Mainstream</td>\n",
       "      <td>165</td>\n",
       "      <td>RRD</td>\n",
       "      <td>3.0</td>\n",
       "    </tr>\n",
       "  </tbody>\n",
       "</table>\n",
       "</div>"
      ],
      "text/plain": [
       "         DATE  STORE_NBR  LYLTY_CARD_NBR  TXN_ID  PROD_NBR  \\\n",
       "1  2018-09-16          1            1002       2        58   \n",
       "9  2018-09-09          1            1010      10        51   \n",
       "10 2018-12-14          1            1010      11        59   \n",
       "21 2018-09-03          1            1018      22         3   \n",
       "22 2018-11-28          1            1018      23        97   \n",
       "\n",
       "                                   PROD_NAME  PROD_QTY  TOT_SALES  \\\n",
       "1      Red Rock Deli Chikn&Garlic Aioli 150g         1        2.7   \n",
       "9                   Doritos Mexicana    170g         2        8.8   \n",
       "10   Old El Paso Salsa   Dip Tomato Med 300g         1        5.1   \n",
       "21  Kettle Sensations   Camembert & Fig 150g         1        4.6   \n",
       "22                  RRD Salt & Vinegar  165g         1        3.0   \n",
       "\n",
       "                LIFESTAGE PREMIUM_CUSTOMER  PACK_SIZE Cleaned_Brand_Names  \\\n",
       "1   YOUNG SINGLES/COUPLES       Mainstream        150                 RRD   \n",
       "9   YOUNG SINGLES/COUPLES       Mainstream        170             Doritos   \n",
       "10  YOUNG SINGLES/COUPLES       Mainstream        300                 Old   \n",
       "21  YOUNG SINGLES/COUPLES       Mainstream        150              Kettle   \n",
       "22  YOUNG SINGLES/COUPLES       Mainstream        165                 RRD   \n",
       "\n",
       "    PRICE  \n",
       "1     2.7  \n",
       "9     4.4  \n",
       "10    5.1  \n",
       "21    4.6  \n",
       "22    3.0  "
      ]
     },
     "execution_count": 64,
     "metadata": {
     },
     "output_type": "execute_result"
    }
   ],
   "source": [
    "target=merged_data.loc[(merged_data['LIFESTAGE'] =='YOUNG SINGLES/COUPLES') & (merged_data['PREMIUM_CUSTOMER'] == 'Mainstream'),:]\n",
    "nontarget=merged_data.loc[(merged_data['LIFESTAGE'] != 'YOUNG SINGLES?COUPLES') & (merged_data['PREMIUM_CUSTOMER'] != 'Mainstream'),:]\n",
    "target.head()"
   ]
  },
  {
   "cell_type": "markdown",
   "metadata": {
    "collapsed": false
   },
   "source": [
    "#### **AFFINITY TO BRAND**"
   ]
  },
  {
   "cell_type": "code",
   "execution_count": 65,
   "metadata": {
    "collapsed": false
   },
   "outputs": [
   ],
   "source": [
    "# Target Segment\n",
    "targetBrand = target.loc[:, ['Cleaned_Brand_Names', 'PROD_QTY']]\n",
    "targetSum = targetBrand['PROD_QTY'].sum()\n",
    "targetBrand['Target Brand Affinity'] = targetBrand['PROD_QTY'] / targetSum\n",
    "targetBrand = pd.DataFrame(targetBrand.groupby('Cleaned_Brand_Names')['Target Brand Affinity'].sum())\n",
    "\n",
    "# Non-target segment\n",
    "nontargetBrand = nontarget.loc[:, ['Cleaned_Brand_Names', 'PROD_QTY']]\n",
    "nontargetSum = nontargetBrand['PROD_QTY'].sum()\n",
    "nontargetBrand['Non-Target Brand Affinity'] = nontargetBrand['PROD_QTY'] / nontargetSum\n",
    "nontargetBrand = pd.DataFrame(nontargetBrand.groupby('Cleaned_Brand_Names')['Non-Target Brand Affinity'].sum())"
   ]
  },
  {
   "cell_type": "code",
   "execution_count": 66,
   "metadata": {
    "collapsed": false
   },
   "outputs": [
    {
     "data": {
      "text/html": [
       "<div>\n",
       "<style scoped>\n",
       "    .dataframe tbody tr th:only-of-type {\n",
       "        vertical-align: middle;\n",
       "    }\n",
       "\n",
       "    .dataframe tbody tr th {\n",
       "        vertical-align: top;\n",
       "    }\n",
       "\n",
       "    .dataframe thead th {\n",
       "        text-align: right;\n",
       "    }\n",
       "</style>\n",
       "<table border=\"1\" class=\"dataframe\">\n",
       "  <thead>\n",
       "    <tr style=\"text-align: right;\">\n",
       "      <th></th>\n",
       "      <th>Target Brand Affinity</th>\n",
       "      <th>Non-Target Brand Affinity</th>\n",
       "    </tr>\n",
       "    <tr>\n",
       "      <th>Cleaned_Brand_Names</th>\n",
       "      <th></th>\n",
       "      <th></th>\n",
       "    </tr>\n",
       "  </thead>\n",
       "  <tbody>\n",
       "    <tr>\n",
       "      <th>Burger</th>\n",
       "      <td>0.002744</td>\n",
       "      <td>0.006211</td>\n",
       "    </tr>\n",
       "    <tr>\n",
       "      <th>CCs</th>\n",
       "      <td>0.010484</td>\n",
       "      <td>0.017731</td>\n",
       "    </tr>\n",
       "    <tr>\n",
       "      <th>Cheetos</th>\n",
       "      <td>0.007533</td>\n",
       "      <td>0.011079</td>\n",
       "    </tr>\n",
       "    <tr>\n",
       "      <th>Cheezels</th>\n",
       "      <td>0.016851</td>\n",
       "      <td>0.017589</td>\n",
       "    </tr>\n",
       "    <tr>\n",
       "      <th>Cobs</th>\n",
       "      <td>0.041856</td>\n",
       "      <td>0.035742</td>\n",
       "    </tr>\n",
       "    <tr>\n",
       "      <th>Doritos</th>\n",
       "      <td>0.122877</td>\n",
       "      <td>0.104451</td>\n",
       "    </tr>\n",
       "    <tr>\n",
       "      <th>French</th>\n",
       "      <td>0.003702</td>\n",
       "      <td>0.005470</td>\n",
       "    </tr>\n",
       "    <tr>\n",
       "      <th>Grain Waves</th>\n",
       "      <td>0.030674</td>\n",
       "      <td>0.028855</td>\n",
       "    </tr>\n",
       "    <tr>\n",
       "      <th>Infuzions</th>\n",
       "      <td>0.046645</td>\n",
       "      <td>0.041598</td>\n",
       "    </tr>\n",
       "    <tr>\n",
       "      <th>Infzns</th>\n",
       "      <td>0.014004</td>\n",
       "      <td>0.011610</td>\n",
       "    </tr>\n",
       "    <tr>\n",
       "      <th>Kettle</th>\n",
       "      <td>0.185649</td>\n",
       "      <td>0.153550</td>\n",
       "    </tr>\n",
       "    <tr>\n",
       "      <th>Natural chip co</th>\n",
       "      <td>0.018379</td>\n",
       "      <td>0.029241</td>\n",
       "    </tr>\n",
       "    <tr>\n",
       "      <th>Old</th>\n",
       "      <td>0.041598</td>\n",
       "      <td>0.034477</td>\n",
       "    </tr>\n",
       "    <tr>\n",
       "      <th>Pringles</th>\n",
       "      <td>0.111980</td>\n",
       "      <td>0.093828</td>\n",
       "    </tr>\n",
       "    <tr>\n",
       "      <th>RRD</th>\n",
       "      <td>0.045377</td>\n",
       "      <td>0.068880</td>\n",
       "    </tr>\n",
       "    <tr>\n",
       "      <th>Smiths</th>\n",
       "      <td>0.093420</td>\n",
       "      <td>0.122194</td>\n",
       "    </tr>\n",
       "    <tr>\n",
       "      <th>Sunbites</th>\n",
       "      <td>0.005954</td>\n",
       "      <td>0.011967</td>\n",
       "    </tr>\n",
       "    <tr>\n",
       "      <th>Thins</th>\n",
       "      <td>0.056611</td>\n",
       "      <td>0.053183</td>\n",
       "    </tr>\n",
       "    <tr>\n",
       "      <th>Tostitos</th>\n",
       "      <td>0.042581</td>\n",
       "      <td>0.035384</td>\n",
       "    </tr>\n",
       "    <tr>\n",
       "      <th>Twisties</th>\n",
       "      <td>0.043306</td>\n",
       "      <td>0.035114</td>\n",
       "    </tr>\n",
       "    <tr>\n",
       "      <th>Tyrrells</th>\n",
       "      <td>0.029587</td>\n",
       "      <td>0.023809</td>\n",
       "    </tr>\n",
       "    <tr>\n",
       "      <th>Woolworths</th>\n",
       "      <td>0.028189</td>\n",
       "      <td>0.058035</td>\n",
       "    </tr>\n",
       "  </tbody>\n",
       "</table>\n",
       "</div>"
      ],
      "text/plain": [
       "                     Target Brand Affinity  Non-Target Brand Affinity\n",
       "Cleaned_Brand_Names                                                  \n",
       "Burger                            0.002744                   0.006211\n",
       "CCs                               0.010484                   0.017731\n",
       "Cheetos                           0.007533                   0.011079\n",
       "Cheezels                          0.016851                   0.017589\n",
       "Cobs                              0.041856                   0.035742\n",
       "Doritos                           0.122877                   0.104451\n",
       "French                            0.003702                   0.005470\n",
       "Grain Waves                       0.030674                   0.028855\n",
       "Infuzions                         0.046645                   0.041598\n",
       "Infzns                            0.014004                   0.011610\n",
       "Kettle                            0.185649                   0.153550\n",
       "Natural chip co                   0.018379                   0.029241\n",
       "Old                               0.041598                   0.034477\n",
       "Pringles                          0.111980                   0.093828\n",
       "RRD                               0.045377                   0.068880\n",
       "Smiths                            0.093420                   0.122194\n",
       "Sunbites                          0.005954                   0.011967\n",
       "Thins                             0.056611                   0.053183\n",
       "Tostitos                          0.042581                   0.035384\n",
       "Twisties                          0.043306                   0.035114\n",
       "Tyrrells                          0.029587                   0.023809\n",
       "Woolworths                        0.028189                   0.058035"
      ]
     },
     "execution_count": 66,
     "metadata": {
     },
     "output_type": "execute_result"
    }
   ],
   "source": [
    "brand_proportions = pd.merge(targetBrand, nontargetBrand, left_index = True, right_index = True)\n",
    "brand_proportions"
   ]
  },
  {
   "cell_type": "code",
   "execution_count": 67,
   "metadata": {
    "collapsed": false
   },
   "outputs": [
    {
     "data": {
      "text/html": [
       "<div>\n",
       "<style scoped>\n",
       "    .dataframe tbody tr th:only-of-type {\n",
       "        vertical-align: middle;\n",
       "    }\n",
       "\n",
       "    .dataframe tbody tr th {\n",
       "        vertical-align: top;\n",
       "    }\n",
       "\n",
       "    .dataframe thead th {\n",
       "        text-align: right;\n",
       "    }\n",
       "</style>\n",
       "<table border=\"1\" class=\"dataframe\">\n",
       "  <thead>\n",
       "    <tr style=\"text-align: right;\">\n",
       "      <th></th>\n",
       "      <th>Target Brand Affinity</th>\n",
       "      <th>Non-Target Brand Affinity</th>\n",
       "      <th>Affinity to Brand</th>\n",
       "    </tr>\n",
       "    <tr>\n",
       "      <th>Cleaned_Brand_Names</th>\n",
       "      <th></th>\n",
       "      <th></th>\n",
       "      <th></th>\n",
       "    </tr>\n",
       "  </thead>\n",
       "  <tbody>\n",
       "    <tr>\n",
       "      <th>Tyrrells</th>\n",
       "      <td>0.029587</td>\n",
       "      <td>0.023809</td>\n",
       "      <td>1.242653</td>\n",
       "    </tr>\n",
       "    <tr>\n",
       "      <th>Twisties</th>\n",
       "      <td>0.043306</td>\n",
       "      <td>0.035114</td>\n",
       "      <td>1.233298</td>\n",
       "    </tr>\n",
       "    <tr>\n",
       "      <th>Kettle</th>\n",
       "      <td>0.185649</td>\n",
       "      <td>0.153550</td>\n",
       "      <td>1.209048</td>\n",
       "    </tr>\n",
       "    <tr>\n",
       "      <th>Old</th>\n",
       "      <td>0.041598</td>\n",
       "      <td>0.034477</td>\n",
       "      <td>1.206537</td>\n",
       "    </tr>\n",
       "    <tr>\n",
       "      <th>Infzns</th>\n",
       "      <td>0.014004</td>\n",
       "      <td>0.011610</td>\n",
       "      <td>1.206166</td>\n",
       "    </tr>\n",
       "    <tr>\n",
       "      <th>Tostitos</th>\n",
       "      <td>0.042581</td>\n",
       "      <td>0.035384</td>\n",
       "      <td>1.203394</td>\n",
       "    </tr>\n",
       "    <tr>\n",
       "      <th>Pringles</th>\n",
       "      <td>0.111980</td>\n",
       "      <td>0.093828</td>\n",
       "      <td>1.193453</td>\n",
       "    </tr>\n",
       "    <tr>\n",
       "      <th>Doritos</th>\n",
       "      <td>0.122877</td>\n",
       "      <td>0.104451</td>\n",
       "      <td>1.176415</td>\n",
       "    </tr>\n",
       "    <tr>\n",
       "      <th>Cobs</th>\n",
       "      <td>0.041856</td>\n",
       "      <td>0.035742</td>\n",
       "      <td>1.171089</td>\n",
       "    </tr>\n",
       "    <tr>\n",
       "      <th>Infuzions</th>\n",
       "      <td>0.046645</td>\n",
       "      <td>0.041598</td>\n",
       "      <td>1.121330</td>\n",
       "    </tr>\n",
       "    <tr>\n",
       "      <th>Thins</th>\n",
       "      <td>0.056611</td>\n",
       "      <td>0.053183</td>\n",
       "      <td>1.064465</td>\n",
       "    </tr>\n",
       "    <tr>\n",
       "      <th>Grain Waves</th>\n",
       "      <td>0.030674</td>\n",
       "      <td>0.028855</td>\n",
       "      <td>1.063035</td>\n",
       "    </tr>\n",
       "    <tr>\n",
       "      <th>Cheezels</th>\n",
       "      <td>0.016851</td>\n",
       "      <td>0.017589</td>\n",
       "      <td>0.958049</td>\n",
       "    </tr>\n",
       "    <tr>\n",
       "      <th>Smiths</th>\n",
       "      <td>0.093420</td>\n",
       "      <td>0.122194</td>\n",
       "      <td>0.764519</td>\n",
       "    </tr>\n",
       "    <tr>\n",
       "      <th>Cheetos</th>\n",
       "      <td>0.007533</td>\n",
       "      <td>0.011079</td>\n",
       "      <td>0.679880</td>\n",
       "    </tr>\n",
       "    <tr>\n",
       "      <th>French</th>\n",
       "      <td>0.003702</td>\n",
       "      <td>0.005470</td>\n",
       "      <td>0.676649</td>\n",
       "    </tr>\n",
       "    <tr>\n",
       "      <th>RRD</th>\n",
       "      <td>0.045377</td>\n",
       "      <td>0.068880</td>\n",
       "      <td>0.658784</td>\n",
       "    </tr>\n",
       "    <tr>\n",
       "      <th>Natural chip co</th>\n",
       "      <td>0.018379</td>\n",
       "      <td>0.029241</td>\n",
       "      <td>0.628513</td>\n",
       "    </tr>\n",
       "    <tr>\n",
       "      <th>CCs</th>\n",
       "      <td>0.010484</td>\n",
       "      <td>0.017731</td>\n",
       "      <td>0.591262</td>\n",
       "    </tr>\n",
       "    <tr>\n",
       "      <th>Sunbites</th>\n",
       "      <td>0.005954</td>\n",
       "      <td>0.011967</td>\n",
       "      <td>0.497483</td>\n",
       "    </tr>\n",
       "    <tr>\n",
       "      <th>Woolworths</th>\n",
       "      <td>0.028189</td>\n",
       "      <td>0.058035</td>\n",
       "      <td>0.485723</td>\n",
       "    </tr>\n",
       "    <tr>\n",
       "      <th>Burger</th>\n",
       "      <td>0.002744</td>\n",
       "      <td>0.006211</td>\n",
       "      <td>0.441799</td>\n",
       "    </tr>\n",
       "  </tbody>\n",
       "</table>\n",
       "</div>"
      ],
      "text/plain": [
       "                     Target Brand Affinity  Non-Target Brand Affinity  \\\n",
       "Cleaned_Brand_Names                                                     \n",
       "Tyrrells                          0.029587                   0.023809   \n",
       "Twisties                          0.043306                   0.035114   \n",
       "Kettle                            0.185649                   0.153550   \n",
       "Old                               0.041598                   0.034477   \n",
       "Infzns                            0.014004                   0.011610   \n",
       "Tostitos                          0.042581                   0.035384   \n",
       "Pringles                          0.111980                   0.093828   \n",
       "Doritos                           0.122877                   0.104451   \n",
       "Cobs                              0.041856                   0.035742   \n",
       "Infuzions                         0.046645                   0.041598   \n",
       "Thins                             0.056611                   0.053183   \n",
       "Grain Waves                       0.030674                   0.028855   \n",
       "Cheezels                          0.016851                   0.017589   \n",
       "Smiths                            0.093420                   0.122194   \n",
       "Cheetos                           0.007533                   0.011079   \n",
       "French                            0.003702                   0.005470   \n",
       "RRD                               0.045377                   0.068880   \n",
       "Natural chip co                   0.018379                   0.029241   \n",
       "CCs                               0.010484                   0.017731   \n",
       "Sunbites                          0.005954                   0.011967   \n",
       "Woolworths                        0.028189                   0.058035   \n",
       "Burger                            0.002744                   0.006211   \n",
       "\n",
       "                     Affinity to Brand  \n",
       "Cleaned_Brand_Names                     \n",
       "Tyrrells                      1.242653  \n",
       "Twisties                      1.233298  \n",
       "Kettle                        1.209048  \n",
       "Old                           1.206537  \n",
       "Infzns                        1.206166  \n",
       "Tostitos                      1.203394  \n",
       "Pringles                      1.193453  \n",
       "Doritos                       1.176415  \n",
       "Cobs                          1.171089  \n",
       "Infuzions                     1.121330  \n",
       "Thins                         1.064465  \n",
       "Grain Waves                   1.063035  \n",
       "Cheezels                      0.958049  \n",
       "Smiths                        0.764519  \n",
       "Cheetos                       0.679880  \n",
       "French                        0.676649  \n",
       "RRD                           0.658784  \n",
       "Natural chip co               0.628513  \n",
       "CCs                           0.591262  \n",
       "Sunbites                      0.497483  \n",
       "Woolworths                    0.485723  \n",
       "Burger                        0.441799  "
      ]
     },
     "execution_count": 67,
     "metadata": {
     },
     "output_type": "execute_result"
    }
   ],
   "source": [
    "brand_proportions['Affinity to Brand'] = brand_proportions['Target Brand Affinity'] / brand_proportions['Non-Target Brand Affinity']\n",
    "brand_proportions.sort_values(by = 'Affinity to Brand', ascending = False)"
   ]
  },
  {
   "cell_type": "markdown",
   "metadata": {
    "collapsed": false
   },
   "source": [
    "**young singles/couples(Mainstream ) are more likely to purchase Tyrrells chips compared to other brands.**"
   ]
  },
  {
   "cell_type": "markdown",
   "metadata": {
    "collapsed": false
   },
   "source": [
    "#### **AFFINITY TO PACK SIZE**"
   ]
  },
  {
   "cell_type": "code",
   "execution_count": 68,
   "metadata": {
    "collapsed": false
   },
   "outputs": [
   ],
   "source": [
    "# Target segment \n",
    "targetSize = target.loc[:, ['PACK_SIZE', 'PROD_QTY']]\n",
    "targetSum = targetSize['PROD_QTY'].sum()\n",
    "targetSize['Target Pack Affinity'] = targetSize['PROD_QTY'] / targetSum\n",
    "targetSize = pd.DataFrame(targetSize.groupby('PACK_SIZE')['Target Pack Affinity'].sum())\n",
    "\n",
    "# Non-target segment\n",
    "nontargetSize = nontarget.loc[:, ['PACK_SIZE', 'PROD_QTY']]\n",
    "nontargetSum = nontargetSize['PROD_QTY'].sum()\n",
    "nontargetSize['Non-Target Pack Affinity'] = nontargetSize['PROD_QTY'] / nontargetSum\n",
    "nontargetSize = pd.DataFrame(nontargetSize.groupby('PACK_SIZE')['Non-Target Pack Affinity'].sum())"
   ]
  },
  {
   "cell_type": "code",
   "execution_count": 69,
   "metadata": {
    "collapsed": false
   },
   "outputs": [
    {
     "data": {
      "text/html": [
       "<div>\n",
       "<style scoped>\n",
       "    .dataframe tbody tr th:only-of-type {\n",
       "        vertical-align: middle;\n",
       "    }\n",
       "\n",
       "    .dataframe tbody tr th {\n",
       "        vertical-align: top;\n",
       "    }\n",
       "\n",
       "    .dataframe thead th {\n",
       "        text-align: right;\n",
       "    }\n",
       "</style>\n",
       "<table border=\"1\" class=\"dataframe\">\n",
       "  <thead>\n",
       "    <tr style=\"text-align: right;\">\n",
       "      <th></th>\n",
       "      <th>Target Pack Affinity</th>\n",
       "      <th>Non-Target Pack Affinity</th>\n",
       "    </tr>\n",
       "    <tr>\n",
       "      <th>PACK_SIZE</th>\n",
       "      <th></th>\n",
       "      <th></th>\n",
       "    </tr>\n",
       "  </thead>\n",
       "  <tbody>\n",
       "    <tr>\n",
       "      <th>70</th>\n",
       "      <td>0.002847</td>\n",
       "      <td>0.006008</td>\n",
       "    </tr>\n",
       "    <tr>\n",
       "      <th>90</th>\n",
       "      <td>0.005954</td>\n",
       "      <td>0.011967</td>\n",
       "    </tr>\n",
       "    <tr>\n",
       "      <th>110</th>\n",
       "      <td>0.099658</td>\n",
       "      <td>0.082942</td>\n",
       "    </tr>\n",
       "    <tr>\n",
       "      <th>125</th>\n",
       "      <td>0.002821</td>\n",
       "      <td>0.005747</td>\n",
       "    </tr>\n",
       "    <tr>\n",
       "      <th>134</th>\n",
       "      <td>0.111980</td>\n",
       "      <td>0.093828</td>\n",
       "    </tr>\n",
       "    <tr>\n",
       "      <th>135</th>\n",
       "      <td>0.013849</td>\n",
       "      <td>0.011967</td>\n",
       "    </tr>\n",
       "    <tr>\n",
       "      <th>150</th>\n",
       "      <td>0.155130</td>\n",
       "      <td>0.162991</td>\n",
       "    </tr>\n",
       "    <tr>\n",
       "      <th>160</th>\n",
       "      <td>0.006005</td>\n",
       "      <td>0.011852</td>\n",
       "    </tr>\n",
       "    <tr>\n",
       "      <th>165</th>\n",
       "      <td>0.052185</td>\n",
       "      <td>0.057749</td>\n",
       "    </tr>\n",
       "    <tr>\n",
       "      <th>170</th>\n",
       "      <td>0.075740</td>\n",
       "      <td>0.074965</td>\n",
       "    </tr>\n",
       "    <tr>\n",
       "      <th>175</th>\n",
       "      <td>0.239102</td>\n",
       "      <td>0.253170</td>\n",
       "    </tr>\n",
       "    <tr>\n",
       "      <th>180</th>\n",
       "      <td>0.003365</td>\n",
       "      <td>0.005754</td>\n",
       "    </tr>\n",
       "    <tr>\n",
       "      <th>190</th>\n",
       "      <td>0.007015</td>\n",
       "      <td>0.011514</td>\n",
       "    </tr>\n",
       "    <tr>\n",
       "      <th>200</th>\n",
       "      <td>0.008413</td>\n",
       "      <td>0.017673</td>\n",
       "    </tr>\n",
       "    <tr>\n",
       "      <th>210</th>\n",
       "      <td>0.027309</td>\n",
       "      <td>0.023102</td>\n",
       "    </tr>\n",
       "    <tr>\n",
       "      <th>220</th>\n",
       "      <td>0.002744</td>\n",
       "      <td>0.006211</td>\n",
       "    </tr>\n",
       "    <tr>\n",
       "      <th>250</th>\n",
       "      <td>0.013460</td>\n",
       "      <td>0.011929</td>\n",
       "    </tr>\n",
       "    <tr>\n",
       "      <th>270</th>\n",
       "      <td>0.029846</td>\n",
       "      <td>0.023185</td>\n",
       "    </tr>\n",
       "    <tr>\n",
       "      <th>300</th>\n",
       "      <td>0.054954</td>\n",
       "      <td>0.056832</td>\n",
       "    </tr>\n",
       "    <tr>\n",
       "      <th>330</th>\n",
       "      <td>0.057465</td>\n",
       "      <td>0.046879</td>\n",
       "    </tr>\n",
       "    <tr>\n",
       "      <th>380</th>\n",
       "      <td>0.030156</td>\n",
       "      <td>0.023735</td>\n",
       "    </tr>\n",
       "  </tbody>\n",
       "</table>\n",
       "</div>"
      ],
      "text/plain": [
       "           Target Pack Affinity  Non-Target Pack Affinity\n",
       "PACK_SIZE                                                \n",
       "70                     0.002847                  0.006008\n",
       "90                     0.005954                  0.011967\n",
       "110                    0.099658                  0.082942\n",
       "125                    0.002821                  0.005747\n",
       "134                    0.111980                  0.093828\n",
       "135                    0.013849                  0.011967\n",
       "150                    0.155130                  0.162991\n",
       "160                    0.006005                  0.011852\n",
       "165                    0.052185                  0.057749\n",
       "170                    0.075740                  0.074965\n",
       "175                    0.239102                  0.253170\n",
       "180                    0.003365                  0.005754\n",
       "190                    0.007015                  0.011514\n",
       "200                    0.008413                  0.017673\n",
       "210                    0.027309                  0.023102\n",
       "220                    0.002744                  0.006211\n",
       "250                    0.013460                  0.011929\n",
       "270                    0.029846                  0.023185\n",
       "300                    0.054954                  0.056832\n",
       "330                    0.057465                  0.046879\n",
       "380                    0.030156                  0.023735"
      ]
     },
     "execution_count": 69,
     "metadata": {
     },
     "output_type": "execute_result"
    }
   ],
   "source": [
    "pack_proportions = pd.merge(targetSize, nontargetSize, left_index = True, right_index = True)\n",
    "pack_proportions"
   ]
  },
  {
   "cell_type": "code",
   "execution_count": 70,
   "metadata": {
    "collapsed": false
   },
   "outputs": [
    {
     "data": {
      "text/html": [
       "<div>\n",
       "<style scoped>\n",
       "    .dataframe tbody tr th:only-of-type {\n",
       "        vertical-align: middle;\n",
       "    }\n",
       "\n",
       "    .dataframe tbody tr th {\n",
       "        vertical-align: top;\n",
       "    }\n",
       "\n",
       "    .dataframe thead th {\n",
       "        text-align: right;\n",
       "    }\n",
       "</style>\n",
       "<table border=\"1\" class=\"dataframe\">\n",
       "  <thead>\n",
       "    <tr style=\"text-align: right;\">\n",
       "      <th></th>\n",
       "      <th>Target Pack Affinity</th>\n",
       "      <th>Non-Target Pack Affinity</th>\n",
       "      <th>Affinity to Pack</th>\n",
       "    </tr>\n",
       "    <tr>\n",
       "      <th>PACK_SIZE</th>\n",
       "      <th></th>\n",
       "      <th></th>\n",
       "      <th></th>\n",
       "    </tr>\n",
       "  </thead>\n",
       "  <tbody>\n",
       "    <tr>\n",
       "      <th>270</th>\n",
       "      <td>0.029846</td>\n",
       "      <td>0.023185</td>\n",
       "      <td>1.287277</td>\n",
       "    </tr>\n",
       "    <tr>\n",
       "      <th>380</th>\n",
       "      <td>0.030156</td>\n",
       "      <td>0.023735</td>\n",
       "      <td>1.270520</td>\n",
       "    </tr>\n",
       "    <tr>\n",
       "      <th>330</th>\n",
       "      <td>0.057465</td>\n",
       "      <td>0.046879</td>\n",
       "      <td>1.225828</td>\n",
       "    </tr>\n",
       "    <tr>\n",
       "      <th>110</th>\n",
       "      <td>0.099658</td>\n",
       "      <td>0.082942</td>\n",
       "      <td>1.201541</td>\n",
       "    </tr>\n",
       "    <tr>\n",
       "      <th>134</th>\n",
       "      <td>0.111980</td>\n",
       "      <td>0.093828</td>\n",
       "      <td>1.193453</td>\n",
       "    </tr>\n",
       "    <tr>\n",
       "      <th>210</th>\n",
       "      <td>0.027309</td>\n",
       "      <td>0.023102</td>\n",
       "      <td>1.182129</td>\n",
       "    </tr>\n",
       "    <tr>\n",
       "      <th>135</th>\n",
       "      <td>0.013849</td>\n",
       "      <td>0.011967</td>\n",
       "      <td>1.157189</td>\n",
       "    </tr>\n",
       "    <tr>\n",
       "      <th>250</th>\n",
       "      <td>0.013460</td>\n",
       "      <td>0.011929</td>\n",
       "      <td>1.128385</td>\n",
       "    </tr>\n",
       "    <tr>\n",
       "      <th>170</th>\n",
       "      <td>0.075740</td>\n",
       "      <td>0.074965</td>\n",
       "      <td>1.010345</td>\n",
       "    </tr>\n",
       "    <tr>\n",
       "      <th>300</th>\n",
       "      <td>0.054954</td>\n",
       "      <td>0.056832</td>\n",
       "      <td>0.966966</td>\n",
       "    </tr>\n",
       "    <tr>\n",
       "      <th>150</th>\n",
       "      <td>0.155130</td>\n",
       "      <td>0.162991</td>\n",
       "      <td>0.951772</td>\n",
       "    </tr>\n",
       "    <tr>\n",
       "      <th>175</th>\n",
       "      <td>0.239102</td>\n",
       "      <td>0.253170</td>\n",
       "      <td>0.944432</td>\n",
       "    </tr>\n",
       "    <tr>\n",
       "      <th>165</th>\n",
       "      <td>0.052185</td>\n",
       "      <td>0.057749</td>\n",
       "      <td>0.903648</td>\n",
       "    </tr>\n",
       "    <tr>\n",
       "      <th>190</th>\n",
       "      <td>0.007015</td>\n",
       "      <td>0.011514</td>\n",
       "      <td>0.609264</td>\n",
       "    </tr>\n",
       "    <tr>\n",
       "      <th>180</th>\n",
       "      <td>0.003365</td>\n",
       "      <td>0.005754</td>\n",
       "      <td>0.584861</td>\n",
       "    </tr>\n",
       "    <tr>\n",
       "      <th>160</th>\n",
       "      <td>0.006005</td>\n",
       "      <td>0.011852</td>\n",
       "      <td>0.506714</td>\n",
       "    </tr>\n",
       "    <tr>\n",
       "      <th>90</th>\n",
       "      <td>0.005954</td>\n",
       "      <td>0.011967</td>\n",
       "      <td>0.497483</td>\n",
       "    </tr>\n",
       "    <tr>\n",
       "      <th>125</th>\n",
       "      <td>0.002821</td>\n",
       "      <td>0.005747</td>\n",
       "      <td>0.490932</td>\n",
       "    </tr>\n",
       "    <tr>\n",
       "      <th>200</th>\n",
       "      <td>0.008413</td>\n",
       "      <td>0.017673</td>\n",
       "      <td>0.476025</td>\n",
       "    </tr>\n",
       "    <tr>\n",
       "      <th>70</th>\n",
       "      <td>0.002847</td>\n",
       "      <td>0.006008</td>\n",
       "      <td>0.473942</td>\n",
       "    </tr>\n",
       "    <tr>\n",
       "      <th>220</th>\n",
       "      <td>0.002744</td>\n",
       "      <td>0.006211</td>\n",
       "      <td>0.441799</td>\n",
       "    </tr>\n",
       "  </tbody>\n",
       "</table>\n",
       "</div>"
      ],
      "text/plain": [
       "           Target Pack Affinity  Non-Target Pack Affinity  Affinity to Pack\n",
       "PACK_SIZE                                                                  \n",
       "270                    0.029846                  0.023185          1.287277\n",
       "380                    0.030156                  0.023735          1.270520\n",
       "330                    0.057465                  0.046879          1.225828\n",
       "110                    0.099658                  0.082942          1.201541\n",
       "134                    0.111980                  0.093828          1.193453\n",
       "210                    0.027309                  0.023102          1.182129\n",
       "135                    0.013849                  0.011967          1.157189\n",
       "250                    0.013460                  0.011929          1.128385\n",
       "170                    0.075740                  0.074965          1.010345\n",
       "300                    0.054954                  0.056832          0.966966\n",
       "150                    0.155130                  0.162991          0.951772\n",
       "175                    0.239102                  0.253170          0.944432\n",
       "165                    0.052185                  0.057749          0.903648\n",
       "190                    0.007015                  0.011514          0.609264\n",
       "180                    0.003365                  0.005754          0.584861\n",
       "160                    0.006005                  0.011852          0.506714\n",
       "90                     0.005954                  0.011967          0.497483\n",
       "125                    0.002821                  0.005747          0.490932\n",
       "200                    0.008413                  0.017673          0.476025\n",
       "70                     0.002847                  0.006008          0.473942\n",
       "220                    0.002744                  0.006211          0.441799"
      ]
     },
     "execution_count": 70,
     "metadata": {
     },
     "output_type": "execute_result"
    }
   ],
   "source": [
    "pack_proportions['Affinity to Pack'] = pack_proportions['Target Pack Affinity'] / pack_proportions['Non-Target Pack Affinity']\n",
    "pack_proportions.sort_values(by = 'Affinity to Pack', ascending = False)"
   ]
  },
  {
   "cell_type": "markdown",
   "metadata": {
    "collapsed": false
   },
   "source": [
    "**From the above output  it looks like singles/couples(mainstream) are more likely to purchase 270gm pack size chips compared to other pack sizes.**"
   ]
  },
  {
   "cell_type": "code",
   "execution_count": 71,
   "metadata": {
    "collapsed": false
   },
   "outputs": [
    {
     "data": {
      "text/html": [
       "<div>\n",
       "<style scoped>\n",
       "    .dataframe tbody tr th:only-of-type {\n",
       "        vertical-align: middle;\n",
       "    }\n",
       "\n",
       "    .dataframe tbody tr th {\n",
       "        vertical-align: top;\n",
       "    }\n",
       "\n",
       "    .dataframe thead th {\n",
       "        text-align: right;\n",
       "    }\n",
       "</style>\n",
       "<table border=\"1\" class=\"dataframe\">\n",
       "  <thead>\n",
       "    <tr style=\"text-align: right;\">\n",
       "      <th></th>\n",
       "      <th>DATE</th>\n",
       "      <th>STORE_NBR</th>\n",
       "      <th>LYLTY_CARD_NBR</th>\n",
       "      <th>TXN_ID</th>\n",
       "      <th>PROD_NBR</th>\n",
       "      <th>PROD_NAME</th>\n",
       "      <th>PROD_QTY</th>\n",
       "      <th>TOT_SALES</th>\n",
       "      <th>LIFESTAGE</th>\n",
       "      <th>PREMIUM_CUSTOMER</th>\n",
       "      <th>PACK_SIZE</th>\n",
       "      <th>Cleaned_Brand_Names</th>\n",
       "      <th>PRICE</th>\n",
       "    </tr>\n",
       "  </thead>\n",
       "  <tbody>\n",
       "    <tr>\n",
       "      <th>64</th>\n",
       "      <td>2019-04-01</td>\n",
       "      <td>1</td>\n",
       "      <td>1060</td>\n",
       "      <td>68</td>\n",
       "      <td>15</td>\n",
       "      <td>Twisties Cheese     270g</td>\n",
       "      <td>1</td>\n",
       "      <td>4.6</td>\n",
       "      <td>YOUNG SINGLES/COUPLES</td>\n",
       "      <td>Mainstream</td>\n",
       "      <td>270</td>\n",
       "      <td>Twisties</td>\n",
       "      <td>4.6</td>\n",
       "    </tr>\n",
       "    <tr>\n",
       "      <th>123</th>\n",
       "      <td>2018-08-26</td>\n",
       "      <td>1</td>\n",
       "      <td>1114</td>\n",
       "      <td>130</td>\n",
       "      <td>113</td>\n",
       "      <td>Twisties Chicken270g</td>\n",
       "      <td>1</td>\n",
       "      <td>4.6</td>\n",
       "      <td>OLDER FAMILIES</td>\n",
       "      <td>Premium</td>\n",
       "      <td>270</td>\n",
       "      <td>Twisties</td>\n",
       "      <td>4.6</td>\n",
       "    </tr>\n",
       "    <tr>\n",
       "      <th>284</th>\n",
       "      <td>2019-06-09</td>\n",
       "      <td>1</td>\n",
       "      <td>1262</td>\n",
       "      <td>297</td>\n",
       "      <td>15</td>\n",
       "      <td>Twisties Cheese     270g</td>\n",
       "      <td>1</td>\n",
       "      <td>4.6</td>\n",
       "      <td>RETIREES</td>\n",
       "      <td>Premium</td>\n",
       "      <td>270</td>\n",
       "      <td>Twisties</td>\n",
       "      <td>4.6</td>\n",
       "    </tr>\n",
       "    <tr>\n",
       "      <th>301</th>\n",
       "      <td>2018-11-30</td>\n",
       "      <td>1</td>\n",
       "      <td>1278</td>\n",
       "      <td>315</td>\n",
       "      <td>113</td>\n",
       "      <td>Twisties Chicken270g</td>\n",
       "      <td>1</td>\n",
       "      <td>4.6</td>\n",
       "      <td>NEW FAMILIES</td>\n",
       "      <td>Mainstream</td>\n",
       "      <td>270</td>\n",
       "      <td>Twisties</td>\n",
       "      <td>4.6</td>\n",
       "    </tr>\n",
       "    <tr>\n",
       "      <th>311</th>\n",
       "      <td>2018-09-24</td>\n",
       "      <td>1</td>\n",
       "      <td>1287</td>\n",
       "      <td>325</td>\n",
       "      <td>15</td>\n",
       "      <td>Twisties Cheese     270g</td>\n",
       "      <td>2</td>\n",
       "      <td>9.2</td>\n",
       "      <td>RETIREES</td>\n",
       "      <td>Mainstream</td>\n",
       "      <td>270</td>\n",
       "      <td>Twisties</td>\n",
       "      <td>4.6</td>\n",
       "    </tr>\n",
       "    <tr>\n",
       "      <th>...</th>\n",
       "      <td>...</td>\n",
       "      <td>...</td>\n",
       "      <td>...</td>\n",
       "      <td>...</td>\n",
       "      <td>...</td>\n",
       "      <td>...</td>\n",
       "      <td>...</td>\n",
       "      <td>...</td>\n",
       "      <td>...</td>\n",
       "      <td>...</td>\n",
       "      <td>...</td>\n",
       "      <td>...</td>\n",
       "      <td>...</td>\n",
       "    </tr>\n",
       "    <tr>\n",
       "      <th>264546</th>\n",
       "      <td>2019-02-19</td>\n",
       "      <td>272</td>\n",
       "      <td>272223</td>\n",
       "      <td>269956</td>\n",
       "      <td>113</td>\n",
       "      <td>Twisties Chicken270g</td>\n",
       "      <td>2</td>\n",
       "      <td>9.2</td>\n",
       "      <td>OLDER SINGLES/COUPLES</td>\n",
       "      <td>Budget</td>\n",
       "      <td>270</td>\n",
       "      <td>Twisties</td>\n",
       "      <td>4.6</td>\n",
       "    </tr>\n",
       "    <tr>\n",
       "      <th>264579</th>\n",
       "      <td>2019-01-29</td>\n",
       "      <td>272</td>\n",
       "      <td>272248</td>\n",
       "      <td>269993</td>\n",
       "      <td>113</td>\n",
       "      <td>Twisties Chicken270g</td>\n",
       "      <td>2</td>\n",
       "      <td>9.2</td>\n",
       "      <td>OLDER SINGLES/COUPLES</td>\n",
       "      <td>Mainstream</td>\n",
       "      <td>270</td>\n",
       "      <td>Twisties</td>\n",
       "      <td>4.6</td>\n",
       "    </tr>\n",
       "    <tr>\n",
       "      <th>264612</th>\n",
       "      <td>2018-07-13</td>\n",
       "      <td>272</td>\n",
       "      <td>272277</td>\n",
       "      <td>270026</td>\n",
       "      <td>15</td>\n",
       "      <td>Twisties Cheese     270g</td>\n",
       "      <td>2</td>\n",
       "      <td>9.2</td>\n",
       "      <td>NEW FAMILIES</td>\n",
       "      <td>Budget</td>\n",
       "      <td>270</td>\n",
       "      <td>Twisties</td>\n",
       "      <td>4.6</td>\n",
       "    </tr>\n",
       "    <tr>\n",
       "      <th>264713</th>\n",
       "      <td>2018-09-10</td>\n",
       "      <td>272</td>\n",
       "      <td>272346</td>\n",
       "      <td>270130</td>\n",
       "      <td>113</td>\n",
       "      <td>Twisties Chicken270g</td>\n",
       "      <td>2</td>\n",
       "      <td>9.2</td>\n",
       "      <td>RETIREES</td>\n",
       "      <td>Premium</td>\n",
       "      <td>270</td>\n",
       "      <td>Twisties</td>\n",
       "      <td>4.6</td>\n",
       "    </tr>\n",
       "    <tr>\n",
       "      <th>264717</th>\n",
       "      <td>2018-10-03</td>\n",
       "      <td>272</td>\n",
       "      <td>272347</td>\n",
       "      <td>270134</td>\n",
       "      <td>15</td>\n",
       "      <td>Twisties Cheese     270g</td>\n",
       "      <td>2</td>\n",
       "      <td>9.2</td>\n",
       "      <td>YOUNG SINGLES/COUPLES</td>\n",
       "      <td>Mainstream</td>\n",
       "      <td>270</td>\n",
       "      <td>Twisties</td>\n",
       "      <td>4.6</td>\n",
       "    </tr>\n",
       "  </tbody>\n",
       "</table>\n",
       "<p>6285 rows × 13 columns</p>\n",
       "</div>"
      ],
      "text/plain": [
       "             DATE  STORE_NBR  LYLTY_CARD_NBR  TXN_ID  PROD_NBR  \\\n",
       "64     2019-04-01          1            1060      68        15   \n",
       "123    2018-08-26          1            1114     130       113   \n",
       "284    2019-06-09          1            1262     297        15   \n",
       "301    2018-11-30          1            1278     315       113   \n",
       "311    2018-09-24          1            1287     325        15   \n",
       "...           ...        ...             ...     ...       ...   \n",
       "264546 2019-02-19        272          272223  269956       113   \n",
       "264579 2019-01-29        272          272248  269993       113   \n",
       "264612 2018-07-13        272          272277  270026        15   \n",
       "264713 2018-09-10        272          272346  270130       113   \n",
       "264717 2018-10-03        272          272347  270134        15   \n",
       "\n",
       "                       PROD_NAME  PROD_QTY  TOT_SALES              LIFESTAGE  \\\n",
       "64      Twisties Cheese     270g         1        4.6  YOUNG SINGLES/COUPLES   \n",
       "123         Twisties Chicken270g         1        4.6         OLDER FAMILIES   \n",
       "284     Twisties Cheese     270g         1        4.6               RETIREES   \n",
       "301         Twisties Chicken270g         1        4.6           NEW FAMILIES   \n",
       "311     Twisties Cheese     270g         2        9.2               RETIREES   \n",
       "...                          ...       ...        ...                    ...   \n",
       "264546      Twisties Chicken270g         2        9.2  OLDER SINGLES/COUPLES   \n",
       "264579      Twisties Chicken270g         2        9.2  OLDER SINGLES/COUPLES   \n",
       "264612  Twisties Cheese     270g         2        9.2           NEW FAMILIES   \n",
       "264713      Twisties Chicken270g         2        9.2               RETIREES   \n",
       "264717  Twisties Cheese     270g         2        9.2  YOUNG SINGLES/COUPLES   \n",
       "\n",
       "       PREMIUM_CUSTOMER  PACK_SIZE Cleaned_Brand_Names  PRICE  \n",
       "64           Mainstream        270            Twisties    4.6  \n",
       "123             Premium        270            Twisties    4.6  \n",
       "284             Premium        270            Twisties    4.6  \n",
       "301          Mainstream        270            Twisties    4.6  \n",
       "311          Mainstream        270            Twisties    4.6  \n",
       "...                 ...        ...                 ...    ...  \n",
       "264546           Budget        270            Twisties    4.6  \n",
       "264579       Mainstream        270            Twisties    4.6  \n",
       "264612           Budget        270            Twisties    4.6  \n",
       "264713          Premium        270            Twisties    4.6  \n",
       "264717       Mainstream        270            Twisties    4.6  \n",
       "\n",
       "[6285 rows x 13 columns]"
      ]
     },
     "execution_count": 71,
     "metadata": {
     },
     "output_type": "execute_result"
    }
   ],
   "source": [
    "merged_data=merged_data.loc[merged_data['PACK_SIZE'] ==270,:]\n",
    "merged_data"
   ]
  },
  {
   "cell_type": "code",
   "execution_count": 72,
   "metadata": {
    "collapsed": false
   },
   "outputs": [
    {
     "data": {
      "text/plain": [
       "array(['Twisties'], dtype=object)"
      ]
     },
     "execution_count": 72,
     "metadata": {
     },
     "output_type": "execute_result"
    }
   ],
   "source": [
    "merged_data.loc[merged_data['PACK_SIZE']==270 ,'Cleaned_Brand_Names'].unique()"
   ]
  },
  {
   "cell_type": "markdown",
   "metadata": {
    "collapsed": false
   },
   "source": [
    "**From all the Brands of chips Twisties are the only chips which are offering 270gm pack size.**"
   ]
  },
  {
   "cell_type": "markdown",
   "metadata": {
    "collapsed": false
   },
   "source": [
    "#### **TRENDS AND INSIGHTS;**"
   ]
  },
  {
   "cell_type": "markdown",
   "metadata": {
    "collapsed": false
   },
   "source": [
    "Top 3 sales contributor segment of chips are:\n",
    "<ul>\n",
    "    <li><b>Older families (Budget)</b></li>\n",
    "    <li><b>Young Singles/Couples (Mainstream)</b></li>\n",
    "    <li><b>Retirees (Mainstream)</b></li>\n",
    "</ul>"
   ]
  },
  {
   "cell_type": "markdown",
   "metadata": {
    "collapsed": false
   },
   "source": [
    "<b>1. Young Singles/Couples (Mainstream) and Retirees (Mainstream) have higher  population than Older Families(Budget)  which explains there high total sales.</b>"
   ]
  },
  {
   "cell_type": "markdown",
   "metadata": {
    "collapsed": false
   },
   "source": [
    "<b>2.Midage singles/couples(Mainstream) and young singles/couples(Mainstream) are paying more per packets then other 2 premium customer Budgets and Premium </b><br>\n",
    "      <p> . Mainstream customers have higher average price per unit than other non-mainstream customers like Budget and premium customers</p><br>\n",
    "      <p>  .  young singles/couples(Mainstream ) are more likely to purchase Tyrrells chips compared to other brands.</p>"
   ]
  },
  {
   "cell_type": "markdown",
   "metadata": {
    "collapsed": false
   },
   "source": [
    "<b>3. Mainstream customers are mostly likely to purchase 270gm of \"Twisties\" brand chips.  </b>"
   ]
  },
  {
   "cell_type": "code",
   "execution_count": 0,
   "metadata": {
    "collapsed": false
   },
   "outputs": [
   ],
   "source": [
   ]
  }
 ],
 "metadata": {
  "kernelspec": {
   "display_name": "Python 3 (system-wide)",
   "language": "python",
   "metadata": {
    "cocalc": {
     "description": "Python 3 programming language",
     "priority": 100,
     "url": "https://www.python.org/"
    }
   },
   "name": "python3",
   "resource_dir": "/ext/jupyter/kernels/python3"
  },
  "language_info": {
   "codemirror_mode": {
    "name": "ipython",
    "version": 3
   },
   "file_extension": ".py",
   "mimetype": "text/x-python",
   "name": "python",
   "nbconvert_exporter": "python",
   "pygments_lexer": "ipython3",
   "version": "3.8.10"
  }
 },
 "nbformat": 4,
 "nbformat_minor": 4
}